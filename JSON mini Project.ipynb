{
 "cells": [
  {
   "cell_type": "markdown",
   "metadata": {},
   "source": [
    "## Find Top 10 countries with highest no. of Projects"
   ]
  },
  {
   "cell_type": "code",
   "execution_count": 42,
   "metadata": {},
   "outputs": [],
   "source": [
    "import pandas as pd\n",
    "import json\n",
    "from pandas.io.json import json_normalize"
   ]
  },
  {
   "cell_type": "code",
   "execution_count": 48,
   "metadata": {},
   "outputs": [],
   "source": [
    "# Read the dataset and save it into a DataFarme\n",
    "json_data = json.load((open(\"../../../data_wrangling_json/data/world_bank_projects.json\")))\n",
    "df = pd.DataFrame(json_data)"
   ]
  },
  {
   "cell_type": "code",
   "execution_count": 49,
   "metadata": {},
   "outputs": [
    {
     "name": "stdout",
     "output_type": "stream",
     "text": [
      "<class 'pandas.core.frame.DataFrame'>\n",
      "RangeIndex: 500 entries, 0 to 499\n",
      "Data columns (total 50 columns):\n",
      "_id                         500 non-null object\n",
      "approvalfy                  500 non-null object\n",
      "board_approval_month        500 non-null object\n",
      "boardapprovaldate           500 non-null object\n",
      "borrower                    485 non-null object\n",
      "closingdate                 370 non-null object\n",
      "country_namecode            500 non-null object\n",
      "countrycode                 500 non-null object\n",
      "countryname                 500 non-null object\n",
      "countryshortname            500 non-null object\n",
      "docty                       446 non-null object\n",
      "envassesmentcategorycode    430 non-null object\n",
      "grantamt                    500 non-null int64\n",
      "ibrdcommamt                 500 non-null int64\n",
      "id                          500 non-null object\n",
      "idacommamt                  500 non-null int64\n",
      "impagency                   472 non-null object\n",
      "lendinginstr                495 non-null object\n",
      "lendinginstrtype            495 non-null object\n",
      "lendprojectcost             500 non-null int64\n",
      "majorsector_percent         500 non-null object\n",
      "mjsector_namecode           500 non-null object\n",
      "mjtheme                     491 non-null object\n",
      "mjtheme_namecode            500 non-null object\n",
      "mjthemecode                 500 non-null object\n",
      "prodline                    500 non-null object\n",
      "prodlinetext                500 non-null object\n",
      "productlinetype             500 non-null object\n",
      "project_abstract            362 non-null object\n",
      "project_name                500 non-null object\n",
      "projectdocs                 446 non-null object\n",
      "projectfinancialtype        500 non-null object\n",
      "projectstatusdisplay        500 non-null object\n",
      "regionname                  500 non-null object\n",
      "sector                      500 non-null object\n",
      "sector1                     500 non-null object\n",
      "sector2                     380 non-null object\n",
      "sector3                     265 non-null object\n",
      "sector4                     174 non-null object\n",
      "sector_namecode             500 non-null object\n",
      "sectorcode                  500 non-null object\n",
      "source                      500 non-null object\n",
      "status                      500 non-null object\n",
      "supplementprojectflg        498 non-null object\n",
      "theme1                      500 non-null object\n",
      "theme_namecode              491 non-null object\n",
      "themecode                   491 non-null object\n",
      "totalamt                    500 non-null int64\n",
      "totalcommamt                500 non-null int64\n",
      "url                         500 non-null object\n",
      "dtypes: int64(6), object(44)\n",
      "memory usage: 195.4+ KB\n"
     ]
    }
   ],
   "source": [
    "# Look what kind of data is present in the dataframe\n",
    "df.info()"
   ]
  },
  {
   "cell_type": "code",
   "execution_count": 50,
   "metadata": {},
   "outputs": [],
   "source": [
    "# As there are 50 columns, set options to view the structure of the datafarme\n",
    "pd.options.display.max_columns = 50"
   ]
  },
  {
   "cell_type": "code",
   "execution_count": 51,
   "metadata": {},
   "outputs": [
    {
     "name": "stdout",
     "output_type": "stream",
     "text": [
      "                                    _id approvalfy board_approval_month  \\\n",
      "0  {'$oid': '52b213b38594d8a2be17c780'}       1999             November   \n",
      "1  {'$oid': '52b213b38594d8a2be17c781'}       2015             November   \n",
      "2  {'$oid': '52b213b38594d8a2be17c782'}       2014             November   \n",
      "3  {'$oid': '52b213b38594d8a2be17c783'}       2014              October   \n",
      "4  {'$oid': '52b213b38594d8a2be17c784'}       2014              October   \n",
      "\n",
      "      boardapprovaldate                                 borrower  \\\n",
      "0  2013-11-12T00:00:00Z  FEDERAL DEMOCRATIC REPUBLIC OF ETHIOPIA   \n",
      "1  2013-11-04T00:00:00Z                    GOVERNMENT OF TUNISIA   \n",
      "2  2013-11-01T00:00:00Z   MINISTRY OF FINANCE AND ECONOMIC DEVEL   \n",
      "3  2013-10-31T00:00:00Z   MIN. OF PLANNING AND INT'L COOPERATION   \n",
      "4  2013-10-31T00:00:00Z                      MINISTRY OF FINANCE   \n",
      "\n",
      "            closingdate                              country_namecode  \\\n",
      "0  2018-07-07T00:00:00Z  Federal Democratic Republic of Ethiopia!$!ET   \n",
      "1                   NaN                      Republic of Tunisia!$!TN   \n",
      "2                   NaN                                   Tuvalu!$!TV   \n",
      "3                   NaN                        Republic of Yemen!$!RY   \n",
      "4  2019-04-30T00:00:00Z                       Kingdom of Lesotho!$!LS   \n",
      "\n",
      "  countrycode                              countryname    countryshortname  \\\n",
      "0          ET  Federal Democratic Republic of Ethiopia            Ethiopia   \n",
      "1          TN                      Republic of Tunisia             Tunisia   \n",
      "2          TV                                   Tuvalu              Tuvalu   \n",
      "3          RY                        Republic of Yemen  Yemen, Republic of   \n",
      "4          LS                       Kingdom of Lesotho             Lesotho   \n",
      "\n",
      "                                               docty envassesmentcategorycode  \\\n",
      "0  Project Information Document,Indigenous People...                        C   \n",
      "1  Project Information Document,Integrated Safegu...                        C   \n",
      "2  Resettlement Plan,Environmental Assessment,Int...                        B   \n",
      "3  Procurement Plan,Project Information Document,...                        C   \n",
      "4  Project Information Document,Integrated Safegu...                        B   \n",
      "\n",
      "   grantamt  ibrdcommamt       id  idacommamt  \\\n",
      "0         0            0  P129828   130000000   \n",
      "1   4700000            0  P144674           0   \n",
      "2         0            0  P145310     6060000   \n",
      "3   1500000            0  P144665           0   \n",
      "4         0            0  P144933    13100000   \n",
      "\n",
      "                                  impagency                  lendinginstr  \\\n",
      "0                     MINISTRY OF EDUCATION  Investment Project Financing   \n",
      "1                       MINISTRY OF FINANCE      Specific Investment Loan   \n",
      "2  MINISTRY OF TRANSPORT AND COMMUNICATIONS  Investment Project Financing   \n",
      "3  LABOR INTENSIVE PUBLIC WORKS PROJECT PMU     Technical Assistance Loan   \n",
      "4            MINISTRY OF TRADE AND INDUSTRY  Investment Project Financing   \n",
      "\n",
      "  lendinginstrtype  lendprojectcost  \\\n",
      "0               IN        550000000   \n",
      "1               IN          5700000   \n",
      "2               IN          6060000   \n",
      "3               IN          1500000   \n",
      "4               IN         15000000   \n",
      "\n",
      "                                 majorsector_percent  \\\n",
      "0  [{'Percent': 46, 'Name': 'Education'}, {'Perce...   \n",
      "1  [{'Percent': 70, 'Name': 'Public Administratio...   \n",
      "2       [{'Percent': 100, 'Name': 'Transportation'}]   \n",
      "3  [{'Percent': 100, 'Name': 'Health and other so...   \n",
      "4  [{'Percent': 50, 'Name': 'Industry and trade'}...   \n",
      "\n",
      "                                   mjsector_namecode  \\\n",
      "0  [{'code': 'EX', 'name': 'Education'}, {'code':...   \n",
      "1  [{'code': 'BX', 'name': 'Public Administration...   \n",
      "2         [{'code': 'TX', 'name': 'Transportation'}]   \n",
      "3  [{'code': 'JX', 'name': 'Health and other soci...   \n",
      "4  [{'code': 'YX', 'name': 'Industry and trade'},...   \n",
      "\n",
      "                                             mjtheme  \\\n",
      "0                                [Human development]   \n",
      "1  [Economic management, Social protection and ri...   \n",
      "2  [Trade and integration, Public sector governan...   \n",
      "3  [Social dev/gender/inclusion, Social dev/gende...   \n",
      "4  [Trade and integration, Financial and private ...   \n",
      "\n",
      "                                    mjtheme_namecode mjthemecode prodline  \\\n",
      "0  [{'code': '8', 'name': 'Human development'}, {...        8,11       PE   \n",
      "1  [{'code': '1', 'name': 'Economic management'},...         1,6       RE   \n",
      "2  [{'code': '5', 'name': 'Trade and integration'...    5,2,11,6       PE   \n",
      "3  [{'code': '7', 'name': 'Social dev/gender/incl...         7,7       RE   \n",
      "4  [{'code': '5', 'name': 'Trade and integration'...         5,4       PE   \n",
      "\n",
      "                    prodlinetext productlinetype  \\\n",
      "0                       IBRD/IDA               L   \n",
      "1  Recipient Executed Activities               L   \n",
      "2                       IBRD/IDA               L   \n",
      "3  Recipient Executed Activities               L   \n",
      "4                       IBRD/IDA               L   \n",
      "\n",
      "                                    project_abstract  \\\n",
      "0  {'cdata': 'The development objective of the Se...   \n",
      "1                                                NaN   \n",
      "2                                                NaN   \n",
      "3                                                NaN   \n",
      "4  {'cdata': 'The development objective of the Se...   \n",
      "\n",
      "                                        project_name  \\\n",
      "0  Ethiopia General Education Quality Improvement...   \n",
      "1          TN: DTF Social Protection Reforms Support   \n",
      "2  Tuvalu Aviation Investment Project - Additiona...   \n",
      "3   Gov't and Civil Society Organization Partnership   \n",
      "4  Second Private Sector Competitiveness and Econ...   \n",
      "\n",
      "                                         projectdocs projectfinancialtype  \\\n",
      "0  [{'DocDate': '28-AUG-2013', 'EntityID': '09022...                  IDA   \n",
      "1  [{'DocDate': '29-MAR-2013', 'EntityID': '00033...                OTHER   \n",
      "2  [{'DocDate': '21-OCT-2013', 'EntityID': '00033...                  IDA   \n",
      "3  [{'DocDate': '15-MAY-2013', 'EntityID': '00035...                OTHER   \n",
      "4  [{'DocDate': '06-SEP-2013', 'EntityID': '09022...                  IDA   \n",
      "\n",
      "  projectstatusdisplay                    regionname  \\\n",
      "0               Active                        Africa   \n",
      "1               Active  Middle East and North Africa   \n",
      "2               Active         East Asia and Pacific   \n",
      "3               Active  Middle East and North Africa   \n",
      "4               Active                        Africa   \n",
      "\n",
      "                                              sector  \\\n",
      "0  [{'Name': 'Primary education'}, {'Name': 'Seco...   \n",
      "1  [{'Name': 'Public administration- Other social...   \n",
      "2  [{'Name': 'Rural and Inter-Urban Roads and Hig...   \n",
      "3                [{'Name': 'Other social services'}]   \n",
      "4  [{'Name': 'General industry and trade sector'}...   \n",
      "\n",
      "                                             sector1  \\\n",
      "0       {'Percent': 46, 'Name': 'Primary education'}   \n",
      "1  {'Percent': 70, 'Name': 'Public administration...   \n",
      "2  {'Percent': 100, 'Name': 'Rural and Inter-Urba...   \n",
      "3  {'Percent': 100, 'Name': 'Other social services'}   \n",
      "4  {'Percent': 50, 'Name': 'General industry and ...   \n",
      "\n",
      "                                             sector2  \\\n",
      "0     {'Percent': 26, 'Name': 'Secondary education'}   \n",
      "1  {'Percent': 30, 'Name': 'General public admini...   \n",
      "2                                                NaN   \n",
      "3                                                NaN   \n",
      "4          {'Percent': 40, 'Name': 'Other industry'}   \n",
      "\n",
      "                                             sector3  \\\n",
      "0  {'Percent': 16, 'Name': 'Public administration...   \n",
      "1                                                NaN   \n",
      "2                                                NaN   \n",
      "3                                                NaN   \n",
      "4             {'Percent': 10, 'Name': 'SME Finance'}   \n",
      "\n",
      "                                         sector4  \\\n",
      "0  {'Percent': 12, 'Name': 'Tertiary education'}   \n",
      "1                                            NaN   \n",
      "2                                            NaN   \n",
      "3                                            NaN   \n",
      "4                                            NaN   \n",
      "\n",
      "                                     sector_namecode   sectorcode source  \\\n",
      "0  [{'code': 'EP', 'name': 'Primary education'}, ...  ET,BS,ES,EP   IBRD   \n",
      "1  [{'code': 'BS', 'name': 'Public administration...        BZ,BS   IBRD   \n",
      "2  [{'code': 'TI', 'name': 'Rural and Inter-Urban...           TI   IBRD   \n",
      "3  [{'code': 'JB', 'name': 'Other social services'}]           JB   IBRD   \n",
      "4  [{'code': 'YZ', 'name': 'General industry and ...     FH,YW,YZ   IBRD   \n",
      "\n",
      "   status supplementprojectflg  \\\n",
      "0  Active                    N   \n",
      "1  Active                    N   \n",
      "2  Active                    Y   \n",
      "3  Active                    N   \n",
      "4  Active                    N   \n",
      "\n",
      "                                              theme1  \\\n",
      "0      {'Percent': 100, 'Name': 'Education for all'}   \n",
      "1  {'Percent': 30, 'Name': 'Other economic manage...   \n",
      "2    {'Percent': 46, 'Name': 'Regional integration'}   \n",
      "3  {'Percent': 50, 'Name': 'Participation and civ...   \n",
      "4  {'Percent': 30, 'Name': 'Export development an...   \n",
      "\n",
      "                                      theme_namecode    themecode   totalamt  \\\n",
      "0      [{'code': '65', 'name': 'Education for all'}]           65  130000000   \n",
      "1  [{'code': '24', 'name': 'Other economic manage...        54,24          0   \n",
      "2  [{'code': '47', 'name': 'Regional integration'...  52,81,25,47    6060000   \n",
      "3  [{'code': '57', 'name': 'Participation and civ...        59,57          0   \n",
      "4  [{'code': '45', 'name': 'Export development an...        41,45   13100000   \n",
      "\n",
      "   totalcommamt                                                url  \n",
      "0     130000000  http://www.worldbank.org/projects/P129828/ethi...  \n",
      "1       4700000  http://www.worldbank.org/projects/P144674?lang=en  \n",
      "2       6060000  http://www.worldbank.org/projects/P145310?lang=en  \n",
      "3       1500000  http://www.worldbank.org/projects/P144665?lang=en  \n",
      "4      13100000  http://www.worldbank.org/projects/P144933/seco...  \n"
     ]
    }
   ],
   "source": [
    "# inspect what data does all 50 columns have\n",
    "print(df.head())"
   ]
  },
  {
   "cell_type": "markdown",
   "metadata": {},
   "source": [
    "A lot of columns has nested data. However, 'countryname' is not nested and should not be a problem for finding top 10 countries."
   ]
  },
  {
   "cell_type": "code",
   "execution_count": 52,
   "metadata": {},
   "outputs": [],
   "source": [
    "# Total count of projects for each country\n",
    "project_count_per_country = df.countryname.value_counts()"
   ]
  },
  {
   "cell_type": "code",
   "execution_count": 53,
   "metadata": {},
   "outputs": [
    {
     "name": "stdout",
     "output_type": "stream",
     "text": [
      "Republic of Indonesia              19\n",
      "People's Republic of China         19\n",
      "Socialist Republic of Vietnam      17\n",
      "Republic of India                  16\n",
      "Republic of Yemen                  13\n",
      "People's Republic of Bangladesh    12\n",
      "Nepal                              12\n",
      "Kingdom of Morocco                 12\n",
      "Republic of Mozambique             11\n",
      "Africa                             11\n",
      "Name: countryname, dtype: int64\n"
     ]
    }
   ],
   "source": [
    "# Top 10 countries with maximum projects are\n",
    "top10_project_count = project_count_per_country.head(10)\n",
    "print(top10_project_count)"
   ]
  },
  {
   "cell_type": "markdown",
   "metadata": {},
   "source": [
    "## Find the top 10 major project themes (using column 'mjtheme_namecode')"
   ]
  },
  {
   "cell_type": "code",
   "execution_count": 54,
   "metadata": {},
   "outputs": [],
   "source": [
    "# import required libraries\n",
    "import pandas as pd\n",
    "import json\n",
    "from pandas.io.json import json_normalize"
   ]
  },
  {
   "cell_type": "code",
   "execution_count": 55,
   "metadata": {},
   "outputs": [],
   "source": [
    "# Load the json data and save it in a dataframe\n",
    "json_data = json.load((open(\"../../../data_wrangling_json/data/world_bank_projects.json\")))"
   ]
  },
  {
   "cell_type": "code",
   "execution_count": 56,
   "metadata": {},
   "outputs": [
    {
     "name": "stdout",
     "output_type": "stream",
     "text": [
      "   code                                          name\n",
      "0     8                             Human development\n",
      "1    11                                              \n",
      "2     1                           Economic management\n",
      "3     6         Social protection and risk management\n",
      "4     5                         Trade and integration\n",
      "5     2                      Public sector governance\n",
      "6    11  Environment and natural resources management\n",
      "7     6         Social protection and risk management\n",
      "8     7                   Social dev/gender/inclusion\n",
      "9     7                   Social dev/gender/inclusion\n",
      "10    5                         Trade and integration\n",
      "11    4      Financial and private sector development\n",
      "12    6         Social protection and risk management\n",
      "13    6                                              \n",
      "14    2                      Public sector governance\n",
      "15    4      Financial and private sector development\n",
      "16   11  Environment and natural resources management\n",
      "17    8                                              \n",
      "18   10                             Rural development\n",
      "19    7                                              \n"
     ]
    }
   ],
   "source": [
    "# As 'mjtheme_namecode' is a nested column, flatten it and save\n",
    "df = json_normalize(json_data, 'mjtheme_namecode')\n",
    "print(df.head(20))"
   ]
  },
  {
   "cell_type": "code",
   "execution_count": 58,
   "metadata": {},
   "outputs": [],
   "source": [
    "# Some major theme names have empty value, major theme code can be used to count the occurrence of each major theme\n",
    "grouped = df.groupby('code').count()"
   ]
  },
  {
   "cell_type": "code",
   "execution_count": 59,
   "metadata": {},
   "outputs": [],
   "source": [
    "# Set the name of the column with count result\n",
    "grouped.columns = ['theme_count']"
   ]
  },
  {
   "cell_type": "code",
   "execution_count": 60,
   "metadata": {},
   "outputs": [
    {
     "name": "stdout",
     "output_type": "stream",
     "text": [
      "   code  theme_count\n",
      "2    11          250\n",
      "1    10          216\n",
      "9     8          210\n",
      "3     2          199\n",
      "7     6          168\n",
      "5     4          146\n",
      "8     7          130\n",
      "6     5           77\n",
      "10    9           50\n",
      "0     1           38\n"
     ]
    }
   ],
   "source": [
    "# Get the top 10 theme codes\n",
    "top_mjcode_df = grouped.reset_index().sort_values('theme_count', ascending=False)[:10]\n",
    "print(top_mjcode_df)"
   ]
  },
  {
   "cell_type": "code",
   "execution_count": 73,
   "metadata": {},
   "outputs": [
    {
     "name": "stdout",
     "output_type": "stream",
     "text": [
      "['Human development' 'Environment and natural resources management'\n",
      " 'Economic management' 'Social protection and risk management'\n",
      " 'Trade and integration' 'Public sector governance'\n",
      " 'Social dev/gender/inclusion' 'Financial and private sector development'\n",
      " 'Rural development' 'Urban development']\n"
     ]
    }
   ],
   "source": [
    "# Get the corresponding major theme names\n",
    "top_mjtheme_df = df[df['code'].isin(top_mjcode_df['code'])]\n",
    "print(top_mjtheme_df['name'].unique())"
   ]
  },
  {
   "cell_type": "code",
   "execution_count": 77,
   "metadata": {},
   "outputs": [
    {
     "name": "stdout",
     "output_type": "stream",
     "text": [
      "Environment and natural resources management    250\n",
      "Rural development                               216\n",
      "Human development                               210\n",
      "Public sector governance                        199\n",
      "Social protection and risk management           168\n",
      "Financial and private sector development        146\n",
      "Social dev/gender/inclusion                     130\n",
      "Trade and integration                            77\n",
      "Urban development                                50\n",
      "Economic management                              38\n",
      "Name: name, dtype: int64\n"
     ]
    }
   ],
   "source": [
    "# Save the total count of each project name:\n",
    "project_count_per_theme = df.name.value_counts()\n",
    "\n",
    "# Save the top ten:\n",
    "top10_theme_count = project_count_per_theme.head(10)\n",
    "print(top10_theme_count)"
   ]
  },
  {
   "cell_type": "markdown",
   "metadata": {},
   "source": [
    "## In 2. above you will notice that some entries have only the code and the name is missing. Create a dataframe with the missing names filled in."
   ]
  },
  {
   "cell_type": "code",
   "execution_count": 64,
   "metadata": {},
   "outputs": [],
   "source": [
    "# import required libraries\n",
    "import pandas as pd\n",
    "import numpy as np\n",
    "import json\n",
    "from pandas.io.json import json_normalize"
   ]
  },
  {
   "cell_type": "code",
   "execution_count": 65,
   "metadata": {},
   "outputs": [],
   "source": [
    "# read the file and load into a dataframe\n",
    "json_data = json.load((open(\"../../../data_wrangling_json/data/world_bank_projects.json\")))\n",
    "df = json_normalize(json_data, 'mjtheme_namecode')"
   ]
  },
  {
   "cell_type": "code",
   "execution_count": 66,
   "metadata": {},
   "outputs": [
    {
     "name": "stdout",
     "output_type": "stream",
     "text": [
      "     code                 name\n",
      "212     1                     \n",
      "363     1                     \n",
      "1024    1                     \n",
      "1114    1                     \n",
      "1437    1                     \n",
      "2       1  Economic management\n",
      "88      1  Economic management\n",
      "175     1  Economic management\n",
      "204     1  Economic management\n",
      "205     1  Economic management\n"
     ]
    }
   ],
   "source": [
    "# sort the data by code, as it is easy to find missing values\n",
    "df = df.sort_values(['code', 'name'])\n",
    "print(df.head(10))"
   ]
  },
  {
   "cell_type": "code",
   "execution_count": 67,
   "metadata": {},
   "outputs": [
    {
     "name": "stdout",
     "output_type": "stream",
     "text": [
      "     code                 name\n",
      "212     1                  NaN\n",
      "363     1                  NaN\n",
      "1024    1                  NaN\n",
      "1114    1                  NaN\n",
      "1437    1                  NaN\n",
      "2       1  Economic management\n",
      "88      1  Economic management\n",
      "175     1  Economic management\n",
      "204     1  Economic management\n",
      "205     1  Economic management\n"
     ]
    }
   ],
   "source": [
    "# Replace the empty values with NaN\n",
    "df.name[df['name'] == ''] = np.nan\n",
    "print(df.head(10))"
   ]
  },
  {
   "cell_type": "code",
   "execution_count": 80,
   "metadata": {},
   "outputs": [],
   "source": [
    "# Sort the values so that values with same code are togeather and values with None are ordered togeather\n",
    "df = df.sort_values(['code', 'name'])"
   ]
  },
  {
   "cell_type": "code",
   "execution_count": 81,
   "metadata": {},
   "outputs": [
    {
     "name": "stdout",
     "output_type": "stream",
     "text": [
      "  code                                          name\n",
      "0    8                             Human development\n",
      "1   11  Environment and natural resources management\n",
      "2    1                           Economic management\n",
      "3    6         Social protection and risk management\n",
      "4    5                         Trade and integration\n",
      "5    2                      Public sector governance\n",
      "6   11  Environment and natural resources management\n",
      "7    6         Social protection and risk management\n",
      "8    7                   Social dev/gender/inclusion\n",
      "9    7                   Social dev/gender/inclusion\n"
     ]
    }
   ],
   "source": [
    "# Replace the nan values using forward fill method and display teh dataframe with code and name with missing names filled\n",
    "df_complete = df.ffill().sort_index()\n",
    "print(df_complete.head(10))"
   ]
  },
  {
   "cell_type": "markdown",
   "metadata": {},
   "source": [
    "## SUMMARY"
   ]
  },
  {
   "cell_type": "markdown",
   "metadata": {},
   "source": [
    "## Top 10 countries with maximum no. of projects"
   ]
  },
  {
   "cell_type": "code",
   "execution_count": 72,
   "metadata": {},
   "outputs": [
    {
     "name": "stdout",
     "output_type": "stream",
     "text": [
      "Republic of Indonesia              19\n",
      "People's Republic of China         19\n",
      "Socialist Republic of Vietnam      17\n",
      "Republic of India                  16\n",
      "Republic of Yemen                  13\n",
      "People's Republic of Bangladesh    12\n",
      "Nepal                              12\n",
      "Kingdom of Morocco                 12\n",
      "Republic of Mozambique             11\n",
      "Africa                             11\n",
      "Name: countryname, dtype: int64\n"
     ]
    }
   ],
   "source": [
    "print(top10_project_count)"
   ]
  },
  {
   "cell_type": "markdown",
   "metadata": {},
   "source": [
    "## Top 10 major project themes"
   ]
  },
  {
   "cell_type": "code",
   "execution_count": 78,
   "metadata": {},
   "outputs": [
    {
     "name": "stdout",
     "output_type": "stream",
     "text": [
      "Environment and natural resources management    250\n",
      "Rural development                               216\n",
      "Human development                               210\n",
      "Public sector governance                        199\n",
      "Social protection and risk management           168\n",
      "Financial and private sector development        146\n",
      "Social dev/gender/inclusion                     130\n",
      "Trade and integration                            77\n",
      "Urban development                                50\n",
      "Economic management                              38\n",
      "Name: name, dtype: int64\n"
     ]
    }
   ],
   "source": [
    "print(top10_theme_count)"
   ]
  },
  {
   "cell_type": "markdown",
   "metadata": {},
   "source": [
    "## Dataframe with filled missing values of 'code' and 'name' columns"
   ]
  },
  {
   "cell_type": "code",
   "execution_count": 82,
   "metadata": {},
   "outputs": [
    {
     "name": "stdout",
     "output_type": "stream",
     "text": [
      "  code                                          name\n",
      "0    8                             Human development\n",
      "1   11  Environment and natural resources management\n",
      "2    1                           Economic management\n",
      "3    6         Social protection and risk management\n",
      "4    5                         Trade and integration\n",
      "5    2                      Public sector governance\n",
      "6   11  Environment and natural resources management\n",
      "7    6         Social protection and risk management\n",
      "8    7                   Social dev/gender/inclusion\n",
      "9    7                   Social dev/gender/inclusion\n"
     ]
    }
   ],
   "source": [
    "print(df_complete.head(10))"
   ]
  }
 ],
 "metadata": {
  "kernelspec": {
   "display_name": "Python 3",
   "language": "python",
   "name": "python3"
  },
  "language_info": {
   "codemirror_mode": {
    "name": "ipython",
    "version": 3
   },
   "file_extension": ".py",
   "mimetype": "text/x-python",
   "name": "python",
   "nbconvert_exporter": "python",
   "pygments_lexer": "ipython3",
   "version": "3.7.1"
  }
 },
 "nbformat": 4,
 "nbformat_minor": 1
}
