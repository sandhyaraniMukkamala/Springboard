{
 "cells": [
  {
   "cell_type": "code",
   "execution_count": 45,
   "metadata": {},
   "outputs": [],
   "source": [
    "#import required libraries\n",
    "import numpy as np\n",
    "import pandas as pd\n",
    "from pandas import DataFrame \n",
    "import matplotlib.pyplot as plt\n",
    "import nltk\n",
    "\n",
    "from sklearn.neighbors import NearestNeighbors\n",
    "from sklearn.linear_model import LogisticRegression\n",
    "from sklearn import neighbors\n",
    "from scipy.spatial.distance import cosine\n",
    "from sklearn.metrics import classification_report\n",
    "from sklearn.metrics import accuracy_score\n",
    "from sklearn.feature_selection import SelectKBest\n",
    "from sklearn.feature_extraction.text import CountVectorizer, TfidfTransformer\n",
    "\n",
    "import re\n",
    "import string\n",
    "from wordcloud import WordCloud, STOPWORDS\n",
    "from sklearn.metrics import mean_squared_error"
   ]
  },
  {
   "cell_type": "code",
   "execution_count": 4,
   "metadata": {},
   "outputs": [],
   "source": [
    "#read the json file\n",
    "df = pd.read_json(\"C:/Users/sandhya.mukkamala/Downloads/Clothing_Shoes_and_Jewelry_5.json\", lines=True)"
   ]
  },
  {
   "cell_type": "code",
   "execution_count": 5,
   "metadata": {},
   "outputs": [],
   "source": [
    "#convert the json file to csv for easy access of data\n",
    "df.to_csv('reviews.csv', sep=',', index = False)"
   ]
  },
  {
   "cell_type": "code",
   "execution_count": 6,
   "metadata": {},
   "outputs": [
    {
     "name": "stdout",
     "output_type": "stream",
     "text": [
      "Index(['reviewerID', 'asin', 'reviewerName', 'helpful', 'reviewText',\n",
      "       'overall', 'summary', 'unixReviewTime', 'reviewTime'],\n",
      "      dtype='object')\n",
      "(278677, 9)\n"
     ]
    }
   ],
   "source": [
    "#save the converted data into a csv file and check the data\n",
    "df = pd.read_csv('reviews.csv')\n",
    "print(df.columns)\n",
    "print(df.shape)"
   ]
  },
  {
   "cell_type": "code",
   "execution_count": 7,
   "metadata": {},
   "outputs": [],
   "source": [
    "#Copy the dataframe so we dont loose any data even if we make changes in future\n",
    "df_copy = df.copy()"
   ]
  },
  {
   "cell_type": "code",
   "execution_count": 8,
   "metadata": {},
   "outputs": [
    {
     "name": "stdout",
     "output_type": "stream",
     "text": [
      "239290\n"
     ]
    }
   ],
   "source": [
    "print(sum(df.reviewerID.duplicated()))\n",
    "purchase_ids = ['reviewerID','asin']\n",
    "duplicates = df[df.duplicated(subset=purchase_ids,\n",
    "                                        keep=False)].sort_values(purchase_ids)"
   ]
  },
  {
   "cell_type": "markdown",
   "metadata": {},
   "source": [
    "Though it seems there are many duplicates, there are no replated reviews each review is unique for different products by a customer."
   ]
  },
  {
   "cell_type": "code",
   "execution_count": 9,
   "metadata": {},
   "outputs": [
    {
     "data": {
      "text/plain": [
       "reviewerID          0\n",
       "asin                0\n",
       "reviewerName      469\n",
       "helpful             0\n",
       "reviewText         24\n",
       "overall             0\n",
       "summary             1\n",
       "unixReviewTime      0\n",
       "reviewTime          0\n",
       "dtype: int64"
      ]
     },
     "execution_count": 9,
     "metadata": {},
     "output_type": "execute_result"
    }
   ],
   "source": [
    "df.isnull().sum()"
   ]
  },
  {
   "cell_type": "markdown",
   "metadata": {},
   "source": [
    "As seen only reviewText and sumary has missing values which are 24 and 1 respectively. As summary can be considered as minimal version of reviewtext. we can ignore the reviewText as we will be dropping the column going forward. And, summary has only 1 missing value which can be ingnored."
   ]
  },
  {
   "cell_type": "code",
   "execution_count": 10,
   "metadata": {},
   "outputs": [],
   "source": [
    "columns = ['reviewerName','helpful','unixReviewTime','reviewTime']\n",
    "df.drop(columns, axis=1, inplace=True)"
   ]
  },
  {
   "cell_type": "markdown",
   "metadata": {},
   "source": [
    "change the cloumn names for better understanding"
   ]
  },
  {
   "cell_type": "code",
   "execution_count": 11,
   "metadata": {},
   "outputs": [
    {
     "data": {
      "text/html": [
       "<div>\n",
       "<style scoped>\n",
       "    .dataframe tbody tr th:only-of-type {\n",
       "        vertical-align: middle;\n",
       "    }\n",
       "\n",
       "    .dataframe tbody tr th {\n",
       "        vertical-align: top;\n",
       "    }\n",
       "\n",
       "    .dataframe thead th {\n",
       "        text-align: right;\n",
       "    }\n",
       "</style>\n",
       "<table border=\"1\" class=\"dataframe\">\n",
       "  <thead>\n",
       "    <tr style=\"text-align: right;\">\n",
       "      <th></th>\n",
       "      <th>reviewerID_x</th>\n",
       "      <th>asin</th>\n",
       "      <th>reviewText_x</th>\n",
       "      <th>overall_x</th>\n",
       "      <th>summary_x</th>\n",
       "      <th>reviewerID_y</th>\n",
       "      <th>reviewText_y</th>\n",
       "      <th>overall_y</th>\n",
       "      <th>summary_y</th>\n",
       "    </tr>\n",
       "  </thead>\n",
       "  <tbody>\n",
       "    <tr>\n",
       "      <td>0</td>\n",
       "      <td>A1KLRMWW2FWPL4</td>\n",
       "      <td>0000031887</td>\n",
       "      <td>This is a great tutu and at a really great pri...</td>\n",
       "      <td>5</td>\n",
       "      <td>Great tutu-  not cheaply made</td>\n",
       "      <td>23</td>\n",
       "      <td>23</td>\n",
       "      <td>23</td>\n",
       "      <td>23</td>\n",
       "    </tr>\n",
       "    <tr>\n",
       "      <td>1</td>\n",
       "      <td>A2G5TCU2WDFZ65</td>\n",
       "      <td>0000031887</td>\n",
       "      <td>I bought this for my 4 yr old daughter for dan...</td>\n",
       "      <td>5</td>\n",
       "      <td>Very Cute!!</td>\n",
       "      <td>23</td>\n",
       "      <td>23</td>\n",
       "      <td>23</td>\n",
       "      <td>23</td>\n",
       "    </tr>\n",
       "    <tr>\n",
       "      <td>2</td>\n",
       "      <td>A1RLQXYNCMWRWN</td>\n",
       "      <td>0000031887</td>\n",
       "      <td>What can I say... my daughters have it in oran...</td>\n",
       "      <td>5</td>\n",
       "      <td>I have buy more than one</td>\n",
       "      <td>23</td>\n",
       "      <td>23</td>\n",
       "      <td>23</td>\n",
       "      <td>23</td>\n",
       "    </tr>\n",
       "    <tr>\n",
       "      <td>3</td>\n",
       "      <td>A8U3FAMSJVHS5</td>\n",
       "      <td>0000031887</td>\n",
       "      <td>We bought several tutus at once, and they are ...</td>\n",
       "      <td>5</td>\n",
       "      <td>Adorable, Sturdy</td>\n",
       "      <td>23</td>\n",
       "      <td>23</td>\n",
       "      <td>23</td>\n",
       "      <td>23</td>\n",
       "    </tr>\n",
       "    <tr>\n",
       "      <td>4</td>\n",
       "      <td>A3GEOILWLK86XM</td>\n",
       "      <td>0000031887</td>\n",
       "      <td>Thank you Halo Heaven great product for Little...</td>\n",
       "      <td>5</td>\n",
       "      <td>Grammy's Angels Love it</td>\n",
       "      <td>23</td>\n",
       "      <td>23</td>\n",
       "      <td>23</td>\n",
       "      <td>23</td>\n",
       "    </tr>\n",
       "    <tr>\n",
       "      <td>...</td>\n",
       "      <td>...</td>\n",
       "      <td>...</td>\n",
       "      <td>...</td>\n",
       "      <td>...</td>\n",
       "      <td>...</td>\n",
       "      <td>...</td>\n",
       "      <td>...</td>\n",
       "      <td>...</td>\n",
       "      <td>...</td>\n",
       "    </tr>\n",
       "    <tr>\n",
       "      <td>278672</td>\n",
       "      <td>A2DG63DN704LOI</td>\n",
       "      <td>B00KKXCJQU</td>\n",
       "      <td>I don't normally go ga-ga over a product very ...</td>\n",
       "      <td>5</td>\n",
       "      <td>These have literally changed the way I travel!</td>\n",
       "      <td>9</td>\n",
       "      <td>9</td>\n",
       "      <td>9</td>\n",
       "      <td>9</td>\n",
       "    </tr>\n",
       "    <tr>\n",
       "      <td>278673</td>\n",
       "      <td>A1EVV74UQYVKRY</td>\n",
       "      <td>B00KKXCJQU</td>\n",
       "      <td>I've been traveling back and forth to England ...</td>\n",
       "      <td>5</td>\n",
       "      <td>Wonderful for Better Packing</td>\n",
       "      <td>9</td>\n",
       "      <td>9</td>\n",
       "      <td>9</td>\n",
       "      <td>9</td>\n",
       "    </tr>\n",
       "    <tr>\n",
       "      <td>278674</td>\n",
       "      <td>A1UQBFCERIP7VJ</td>\n",
       "      <td>B00KKXCJQU</td>\n",
       "      <td>These are very nice packing cubes and the 18 x...</td>\n",
       "      <td>5</td>\n",
       "      <td>Convenient, lightweight, and durable</td>\n",
       "      <td>9</td>\n",
       "      <td>9</td>\n",
       "      <td>9</td>\n",
       "      <td>9</td>\n",
       "    </tr>\n",
       "    <tr>\n",
       "      <td>278675</td>\n",
       "      <td>A22CW0ZHY3NJH8</td>\n",
       "      <td>B00KKXCJQU</td>\n",
       "      <td>I am on vacation with my family of four and th...</td>\n",
       "      <td>5</td>\n",
       "      <td>Holds Up Well In Real World Test</td>\n",
       "      <td>9</td>\n",
       "      <td>9</td>\n",
       "      <td>9</td>\n",
       "      <td>9</td>\n",
       "    </tr>\n",
       "    <tr>\n",
       "      <td>278676</td>\n",
       "      <td>A30VWT3R25QAVD</td>\n",
       "      <td>B00KKXCJQU</td>\n",
       "      <td>When I signed up to receive a free set of Shac...</td>\n",
       "      <td>5</td>\n",
       "      <td>Don't Travel? Still Way too Useful for 'Averag...</td>\n",
       "      <td>9</td>\n",
       "      <td>9</td>\n",
       "      <td>9</td>\n",
       "      <td>9</td>\n",
       "    </tr>\n",
       "  </tbody>\n",
       "</table>\n",
       "<p>278677 rows × 9 columns</p>\n",
       "</div>"
      ],
      "text/plain": [
       "          reviewerID_x        asin  \\\n",
       "0       A1KLRMWW2FWPL4  0000031887   \n",
       "1       A2G5TCU2WDFZ65  0000031887   \n",
       "2       A1RLQXYNCMWRWN  0000031887   \n",
       "3        A8U3FAMSJVHS5  0000031887   \n",
       "4       A3GEOILWLK86XM  0000031887   \n",
       "...                ...         ...   \n",
       "278672  A2DG63DN704LOI  B00KKXCJQU   \n",
       "278673  A1EVV74UQYVKRY  B00KKXCJQU   \n",
       "278674  A1UQBFCERIP7VJ  B00KKXCJQU   \n",
       "278675  A22CW0ZHY3NJH8  B00KKXCJQU   \n",
       "278676  A30VWT3R25QAVD  B00KKXCJQU   \n",
       "\n",
       "                                             reviewText_x  overall_x  \\\n",
       "0       This is a great tutu and at a really great pri...          5   \n",
       "1       I bought this for my 4 yr old daughter for dan...          5   \n",
       "2       What can I say... my daughters have it in oran...          5   \n",
       "3       We bought several tutus at once, and they are ...          5   \n",
       "4       Thank you Halo Heaven great product for Little...          5   \n",
       "...                                                   ...        ...   \n",
       "278672  I don't normally go ga-ga over a product very ...          5   \n",
       "278673  I've been traveling back and forth to England ...          5   \n",
       "278674  These are very nice packing cubes and the 18 x...          5   \n",
       "278675  I am on vacation with my family of four and th...          5   \n",
       "278676  When I signed up to receive a free set of Shac...          5   \n",
       "\n",
       "                                                summary_x  reviewerID_y  \\\n",
       "0                           Great tutu-  not cheaply made            23   \n",
       "1                                             Very Cute!!            23   \n",
       "2                                I have buy more than one            23   \n",
       "3                                        Adorable, Sturdy            23   \n",
       "4                                 Grammy's Angels Love it            23   \n",
       "...                                                   ...           ...   \n",
       "278672     These have literally changed the way I travel!             9   \n",
       "278673                       Wonderful for Better Packing             9   \n",
       "278674               Convenient, lightweight, and durable             9   \n",
       "278675                   Holds Up Well In Real World Test             9   \n",
       "278676  Don't Travel? Still Way too Useful for 'Averag...             9   \n",
       "\n",
       "        reviewText_y  overall_y  summary_y  \n",
       "0                 23         23         23  \n",
       "1                 23         23         23  \n",
       "2                 23         23         23  \n",
       "3                 23         23         23  \n",
       "4                 23         23         23  \n",
       "...              ...        ...        ...  \n",
       "278672             9          9          9  \n",
       "278673             9          9          9  \n",
       "278674             9          9          9  \n",
       "278675             9          9          9  \n",
       "278676             9          9          9  \n",
       "\n",
       "[278677 rows x 9 columns]"
      ]
     },
     "execution_count": 11,
     "metadata": {},
     "output_type": "execute_result"
    }
   ],
   "source": [
    "#Let's count how many total reviews are given for each product and sort the dataframe accordingly to later make selections\n",
    "reviewer_count = df.groupby(\"asin\", as_index=False).count()\n",
    "\n",
    "#create a new df with the count data merged in to actual df for further analysis\n",
    "df_merged = pd.merge(df, reviewer_count, how='right', on=['asin'])\n",
    "df_merged"
   ]
  },
  {
   "cell_type": "code",
   "execution_count": 12,
   "metadata": {},
   "outputs": [],
   "source": [
    "#rename columns\n",
    "df_merged[\"productID\"] = df_merged[\"asin\"]\n",
    "df_merged[\"total_reviewers\"] = df_merged[\"reviewerID_y\"]\n",
    "df_merged[\"overall_rating\"] = df_merged[\"overall_x\"]\n",
    "df_merged[\"review_summary\"] = df_merged[\"summary_x\"]"
   ]
  },
  {
   "cell_type": "code",
   "execution_count": 13,
   "metadata": {},
   "outputs": [
    {
     "data": {
      "text/html": [
       "<div>\n",
       "<style scoped>\n",
       "    .dataframe tbody tr th:only-of-type {\n",
       "        vertical-align: middle;\n",
       "    }\n",
       "\n",
       "    .dataframe tbody tr th {\n",
       "        vertical-align: top;\n",
       "    }\n",
       "\n",
       "    .dataframe thead th {\n",
       "        text-align: right;\n",
       "    }\n",
       "</style>\n",
       "<table border=\"1\" class=\"dataframe\">\n",
       "  <thead>\n",
       "    <tr style=\"text-align: right;\">\n",
       "      <th></th>\n",
       "      <th>productID</th>\n",
       "      <th>review_summary</th>\n",
       "      <th>overall_rating</th>\n",
       "      <th>total_reviewers</th>\n",
       "    </tr>\n",
       "  </thead>\n",
       "  <tbody>\n",
       "    <tr>\n",
       "      <td>0</td>\n",
       "      <td>0000031887</td>\n",
       "      <td>Great tutu-  not cheaply made</td>\n",
       "      <td>5</td>\n",
       "      <td>23</td>\n",
       "    </tr>\n",
       "    <tr>\n",
       "      <td>1</td>\n",
       "      <td>0000031887</td>\n",
       "      <td>Very Cute!!</td>\n",
       "      <td>5</td>\n",
       "      <td>23</td>\n",
       "    </tr>\n",
       "    <tr>\n",
       "      <td>2</td>\n",
       "      <td>0000031887</td>\n",
       "      <td>I have buy more than one</td>\n",
       "      <td>5</td>\n",
       "      <td>23</td>\n",
       "    </tr>\n",
       "  </tbody>\n",
       "</table>\n",
       "</div>"
      ],
      "text/plain": [
       "    productID                 review_summary  overall_rating  total_reviewers\n",
       "0  0000031887  Great tutu-  not cheaply made               5               23\n",
       "1  0000031887                    Very Cute!!               5               23\n",
       "2  0000031887       I have buy more than one               5               23"
      ]
     },
     "execution_count": 13,
     "metadata": {},
     "output_type": "execute_result"
    }
   ],
   "source": [
    "df_new = df_merged[['productID','review_summary','overall_rating',\"total_reviewers\"]]\n",
    "df_new.head(3)"
   ]
  },
  {
   "cell_type": "code",
   "execution_count": 14,
   "metadata": {},
   "outputs": [
    {
     "name": "stderr",
     "output_type": "stream",
     "text": [
      "C:\\Users\\sandhya.mukkamala\\PycharmProjects\\Conda\\lib\\site-packages\\ipykernel_launcher.py:3: UserWarning: Boolean Series key will be reindexed to match DataFrame index.\n",
      "  This is separate from the ipykernel package so we can avoid doing imports until\n"
     ]
    },
    {
     "data": {
      "text/html": [
       "<div>\n",
       "<style scoped>\n",
       "    .dataframe tbody tr th:only-of-type {\n",
       "        vertical-align: middle;\n",
       "    }\n",
       "\n",
       "    .dataframe tbody tr th {\n",
       "        vertical-align: top;\n",
       "    }\n",
       "\n",
       "    .dataframe thead th {\n",
       "        text-align: right;\n",
       "    }\n",
       "</style>\n",
       "<table border=\"1\" class=\"dataframe\">\n",
       "  <thead>\n",
       "    <tr style=\"text-align: right;\">\n",
       "      <th></th>\n",
       "      <th>productID</th>\n",
       "      <th>review_summary</th>\n",
       "      <th>overall_rating</th>\n",
       "      <th>total_reviewers</th>\n",
       "    </tr>\n",
       "  </thead>\n",
       "  <tbody>\n",
       "    <tr>\n",
       "      <td>161700</td>\n",
       "      <td>B005LERHD8</td>\n",
       "      <td>It's ok</td>\n",
       "      <td>4</td>\n",
       "      <td>441</td>\n",
       "    </tr>\n",
       "    <tr>\n",
       "      <td>161269</td>\n",
       "      <td>B005LERHD8</td>\n",
       "      <td>Really Cute</td>\n",
       "      <td>4</td>\n",
       "      <td>441</td>\n",
       "    </tr>\n",
       "    <tr>\n",
       "      <td>161280</td>\n",
       "      <td>B005LERHD8</td>\n",
       "      <td>Very pretty</td>\n",
       "      <td>4</td>\n",
       "      <td>441</td>\n",
       "    </tr>\n",
       "    <tr>\n",
       "      <td>161279</td>\n",
       "      <td>B005LERHD8</td>\n",
       "      <td>Not worth your money</td>\n",
       "      <td>1</td>\n",
       "      <td>441</td>\n",
       "    </tr>\n",
       "    <tr>\n",
       "      <td>161278</td>\n",
       "      <td>B005LERHD8</td>\n",
       "      <td>Really pretty!</td>\n",
       "      <td>5</td>\n",
       "      <td>441</td>\n",
       "    </tr>\n",
       "    <tr>\n",
       "      <td>...</td>\n",
       "      <td>...</td>\n",
       "      <td>...</td>\n",
       "      <td>...</td>\n",
       "      <td>...</td>\n",
       "    </tr>\n",
       "    <tr>\n",
       "      <td>114084</td>\n",
       "      <td>B003YBHF82</td>\n",
       "      <td>cute, but not good for my feet</td>\n",
       "      <td>2</td>\n",
       "      <td>100</td>\n",
       "    </tr>\n",
       "    <tr>\n",
       "      <td>114083</td>\n",
       "      <td>B003YBHF82</td>\n",
       "      <td>Crocs Sandal</td>\n",
       "      <td>5</td>\n",
       "      <td>100</td>\n",
       "    </tr>\n",
       "    <tr>\n",
       "      <td>114082</td>\n",
       "      <td>B003YBHF82</td>\n",
       "      <td>Minimal Yet Comfortable</td>\n",
       "      <td>5</td>\n",
       "      <td>100</td>\n",
       "    </tr>\n",
       "    <tr>\n",
       "      <td>114081</td>\n",
       "      <td>B003YBHF82</td>\n",
       "      <td>Excellent</td>\n",
       "      <td>5</td>\n",
       "      <td>100</td>\n",
       "    </tr>\n",
       "    <tr>\n",
       "      <td>114088</td>\n",
       "      <td>B003YBHF82</td>\n",
       "      <td>Simple Yet Comfortable</td>\n",
       "      <td>5</td>\n",
       "      <td>100</td>\n",
       "    </tr>\n",
       "  </tbody>\n",
       "</table>\n",
       "<p>13379 rows × 4 columns</p>\n",
       "</div>"
      ],
      "text/plain": [
       "         productID                  review_summary  overall_rating  \\\n",
       "161700  B005LERHD8                         It's ok               4   \n",
       "161269  B005LERHD8                     Really Cute               4   \n",
       "161280  B005LERHD8                     Very pretty               4   \n",
       "161279  B005LERHD8            Not worth your money               1   \n",
       "161278  B005LERHD8                  Really pretty!               5   \n",
       "...            ...                             ...             ...   \n",
       "114084  B003YBHF82  cute, but not good for my feet               2   \n",
       "114083  B003YBHF82                    Crocs Sandal               5   \n",
       "114082  B003YBHF82         Minimal Yet Comfortable               5   \n",
       "114081  B003YBHF82                       Excellent               5   \n",
       "114088  B003YBHF82          Simple Yet Comfortable               5   \n",
       "\n",
       "        total_reviewers  \n",
       "161700              441  \n",
       "161269              441  \n",
       "161280              441  \n",
       "161279              441  \n",
       "161278              441  \n",
       "...                 ...  \n",
       "114084              100  \n",
       "114083              100  \n",
       "114082              100  \n",
       "114081              100  \n",
       "114088              100  \n",
       "\n",
       "[13379 rows x 4 columns]"
      ]
     },
     "execution_count": 14,
     "metadata": {},
     "output_type": "execute_result"
    }
   ],
   "source": [
    "#Selecting products which have more than 100 reviews\n",
    "df_new = df_new.sort_values(by='total_reviewers', ascending=False)\n",
    "df_new = df_new[df_merged.total_reviewers >= 100]\n",
    "df_new"
   ]
  },
  {
   "cell_type": "markdown",
   "metadata": {},
   "source": [
    "It can be observed that we have reduced the data to 13379 rows, which is easy to handle and also enough to make recommendations."
   ]
  },
  {
   "cell_type": "code",
   "execution_count": 15,
   "metadata": {},
   "outputs": [],
   "source": [
    "#grouping all the summary Reviews by product ID\n",
    "df_productReview = df_new.groupby(\"productID\", as_index=False).mean()\n",
    "ProductReviewSummary = df_new.groupby('productID')[\"review_summary\"].apply(list)\n",
    "ProductReviewSummary = pd.DataFrame(ProductReviewSummary)\n",
    "ProductReviewSummary.to_csv(\"ProductReviewSummary.csv\")"
   ]
  },
  {
   "cell_type": "code",
   "execution_count": 16,
   "metadata": {},
   "outputs": [],
   "source": [
    "df1 = pd.read_csv(\"ProductReviewSummary.csv\")\n",
    "df_ProductReview = pd.merge(df1, df_productReview, on='productID', how='inner')"
   ]
  },
  {
   "cell_type": "markdown",
   "metadata": {},
   "source": [
    "## Text Cleaning"
   ]
  },
  {
   "cell_type": "code",
   "execution_count": 17,
   "metadata": {},
   "outputs": [],
   "source": [
    "# Text Cleaning - review_summary Column\n",
    "#function for tokenizing reviews\n",
    "regEx = re.compile('[^a-z]+')\n",
    "def cleanReviews(review_Text):\n",
    "    review_Text = review_Text.lower()\n",
    "    review_Text = regEx.sub(' ', review_Text).strip()\n",
    "    return review_Text"
   ]
  },
  {
   "cell_type": "code",
   "execution_count": 18,
   "metadata": {},
   "outputs": [],
   "source": [
    "#reset index and drop duplicate rows\n",
    "df_ProductReview[\"clean_summary\"] = df_ProductReview[\"review_summary\"].apply(cleanReviews)\n",
    "df_ProductReview = df_ProductReview.drop_duplicates(['overall_rating'], keep='last')\n",
    "df_ProductReview = df_ProductReview.reset_index()"
   ]
  },
  {
   "cell_type": "code",
   "execution_count": 19,
   "metadata": {},
   "outputs": [],
   "source": [
    "reviews = df_ProductReview[\"clean_summary\"] \n",
    "count_vector = CountVectorizer(max_features = 300, stop_words='english') \n",
    "transformed_reviews = count_vector.fit_transform(reviews) \n",
    "\n",
    "df_Reviews = DataFrame(transformed_reviews.A, columns=count_vector.get_feature_names())\n",
    "df_Reviews = df_Reviews.astype(int)"
   ]
  },
  {
   "cell_type": "code",
   "execution_count": 20,
   "metadata": {},
   "outputs": [],
   "source": [
    "#save\n",
    "df_Reviews.to_csv(\"df_Reviews.csv\")"
   ]
  },
  {
   "cell_type": "code",
   "execution_count": 21,
   "metadata": {},
   "outputs": [],
   "source": [
    "# First let's create a dataset called X\n",
    "X = np.array(df_Reviews)\n",
    " # create train and test\n",
    "tpercent = 0.9\n",
    "tsize = int(np.floor(tpercent * len(df_Reviews)))\n",
    "df_Reviews_train = X[:tsize]\n",
    "df_Reviews_test = X[tsize:]\n",
    "#len of train and test\n",
    "lentrain = len(df_Reviews_train)\n",
    "lentest = len(df_Reviews_test)"
   ]
  },
  {
   "cell_type": "code",
   "execution_count": 22,
   "metadata": {},
   "outputs": [
    {
     "name": "stdout",
     "output_type": "stream",
     "text": [
      "80\n",
      "9\n"
     ]
    }
   ],
   "source": [
    "# KNN classifier to find similar products\n",
    "print(lentrain)\n",
    "print(lentest)"
   ]
  },
  {
   "cell_type": "markdown",
   "metadata": {},
   "source": [
    "## kNN with k = 3, Algorithm = ball_tree"
   ]
  },
  {
   "cell_type": "code",
   "execution_count": 23,
   "metadata": {},
   "outputs": [],
   "source": [
    "neighbor = NearestNeighbors(n_neighbors=3, algorithm='ball_tree').fit(df_Reviews_train)\n",
    "\n",
    "# Let's find the k-neighbors of each point in object X. To do that we call the kneighbors() function on object X.\n",
    "distances, indices = neighbor.kneighbors(df_Reviews_train)"
   ]
  },
  {
   "cell_type": "code",
   "execution_count": 24,
   "metadata": {},
   "outputs": [
    {
     "name": "stdout",
     "output_type": "stream",
     "text": [
      "Based on product reviews, for  B008X0EW44  average rating is  3.874125874125874\n",
      "The first similar product is  B004Q7AB4I  average rating is  4.337142857142857\n",
      "The second similar product is  B004Z1CZDK  average rating is  3.1923076923076925\n",
      "-----------------------------------------------------------\n",
      "Based on product reviews, for  B009DNWFD0  average rating is  3.8446601941747574\n",
      "The first similar product is  B003YBHF82  average rating is  4.21\n",
      "The second similar product is  B007NLX16O  average rating is  4.507936507936508\n",
      "-----------------------------------------------------------\n",
      "Based on product reviews, for  B009ZDEXQK  average rating is  4.7254901960784315\n",
      "The first similar product is  B003YBHF82  average rating is  4.21\n",
      "The second similar product is  B0068VM5T4  average rating is  4.58955223880597\n",
      "-----------------------------------------------------------\n",
      "Based on product reviews, for  B00BNB3A0W  average rating is  3.4414414414414414\n",
      "The first similar product is  B007RD9DS8  average rating is  3.903225806451613\n",
      "The second similar product is  B007NLX16O  average rating is  4.507936507936508\n",
      "-----------------------------------------------------------\n",
      "Based on product reviews, for  B00CIBCJ62  average rating is  4.2164179104477615\n",
      "The first similar product is  B003YBHF82  average rating is  4.21\n",
      "The second similar product is  B004Z1CZDK  average rating is  3.1923076923076925\n",
      "-----------------------------------------------------------\n",
      "Based on product reviews, for  B00CKGB85I  average rating is  4.066666666666666\n",
      "The first similar product is  B0083S18LQ  average rating is  3.9565217391304346\n",
      "The second similar product is  B006SCSOOS  average rating is  4.3431372549019605\n",
      "-----------------------------------------------------------\n",
      "Based on product reviews, for  B00CN47GXA  average rating is  3.4634146341463414\n",
      "The first similar product is  B005GYGD7O  average rating is  4.241258741258742\n",
      "The second similar product is  B006SCSOOS  average rating is  4.3431372549019605\n",
      "-----------------------------------------------------------\n",
      "Based on product reviews, for  B00D1MR8YU  average rating is  3.83739837398374\n",
      "The first similar product is  B006SCSOOS  average rating is  4.3431372549019605\n",
      "The second similar product is  B005GYGD7O  average rating is  4.241258741258742\n",
      "-----------------------------------------------------------\n",
      "Based on product reviews, for  B00DMWQK0W  average rating is  4.298076923076923\n",
      "The first similar product is  B003DNR4XC  average rating is  4.588235294117647\n",
      "The second similar product is  B000DZUGOM  average rating is  4.563492063492063\n",
      "-----------------------------------------------------------\n"
     ]
    }
   ],
   "source": [
    "#find most related products\n",
    "for i in range(lentest):\n",
    "    a = neighbor.kneighbors([df_Reviews_test[i]])\n",
    "    related_product_list = a[1]\n",
    "\n",
    "    first_related_product = [item[0] for item in related_product_list]\n",
    "    first_related_product = str(first_related_product).strip('[]')\n",
    "    first_related_product = int(first_related_product)\n",
    "    second_related_product = [item[1] for item in related_product_list]\n",
    "    second_related_product = str(second_related_product).strip('[]')\n",
    "    second_related_product = int(second_related_product)\n",
    "    \n",
    "    print (\"Based on product reviews, for \", df_productReview[\"productID\"][lentrain + i] ,\" average rating is \",df_productReview[\"overall_rating\"][lentrain + i])\n",
    "    print (\"The first similar product is \", df_productReview[\"productID\"][first_related_product] ,\" average rating is \",df_productReview[\"overall_rating\"][first_related_product])\n",
    "    print (\"The second similar product is \", df_productReview[\"productID\"][second_related_product] ,\" average rating is \",df_productReview[\"overall_rating\"][second_related_product])\n",
    "    print (\"-----------------------------------------------------------\")"
   ]
  },
  {
   "cell_type": "code",
   "execution_count": 25,
   "metadata": {},
   "outputs": [
    {
     "name": "stdout",
     "output_type": "stream",
     "text": [
      "Based on product reviews, for  B0051U15E4  average rating is  4.412280701754386\n",
      "The first similar product is  B003YBHF82  average rating is  4.21\n",
      "The second similar product is  B000FH4JJQ  average rating is  4.536363636363636\n",
      "-----------------------------------------------------------\n"
     ]
    }
   ],
   "source": [
    "print (\"Based on product reviews, for \", df_ProductReview[\"productID\"][50] ,\" average rating is \",df_ProductReview[\"overall_rating\"][50])\n",
    "print (\"The first similar product is \", df_ProductReview[\"productID\"][first_related_product] ,\" average rating is \",df_ProductReview[\"overall_rating\"][first_related_product])\n",
    "print (\"The second similar product is \", df_ProductReview[\"productID\"][second_related_product] ,\" average rating is \",df_ProductReview[\"overall_rating\"][second_related_product])\n",
    "print (\"-----------------------------------------------------------\")"
   ]
  },
  {
   "cell_type": "markdown",
   "metadata": {},
   "source": [
    "## Predicting Review Score with k = 3"
   ]
  },
  {
   "cell_type": "code",
   "execution_count": 26,
   "metadata": {},
   "outputs": [
    {
     "name": "stdout",
     "output_type": "stream",
     "text": [
      "              precision    recall  f1-score   support\n",
      "\n",
      "           3       1.00      1.00      1.00         3\n",
      "           4       1.00      1.00      1.00         6\n",
      "\n",
      "    accuracy                           1.00         9\n",
      "   macro avg       1.00      1.00      1.00         9\n",
      "weighted avg       1.00      1.00      1.00         9\n",
      "\n"
     ]
    }
   ],
   "source": [
    "df_train_target = df_ProductReview[\"overall_rating\"][:lentrain]\n",
    "df_test_target = df_ProductReview[\"overall_rating\"][lentrain:lentrain+lentest]\n",
    "df_train_target = df_train_target.astype(int)\n",
    "df_test_target = df_test_target.astype(int)\n",
    "\n",
    "n_neighbors = 3\n",
    "knnclf = neighbors.KNeighborsClassifier(n_neighbors, weights='distance')\n",
    "knnclf.fit(df_Reviews_train, df_train_target)\n",
    "knnpreds_test = knnclf.predict(df_Reviews_test)\n",
    "\n",
    "print(classification_report(df_test_target, knnpreds_test))"
   ]
  },
  {
   "cell_type": "markdown",
   "metadata": {},
   "source": [
    "## Accuracy of the model"
   ]
  },
  {
   "cell_type": "code",
   "execution_count": 27,
   "metadata": {},
   "outputs": [
    {
     "name": "stdout",
     "output_type": "stream",
     "text": [
      "1.0\n"
     ]
    }
   ],
   "source": [
    "print (accuracy_score(df_test_target, knnpreds_test))"
   ]
  },
  {
   "cell_type": "code",
   "execution_count": 28,
   "metadata": {},
   "outputs": [
    {
     "name": "stdout",
     "output_type": "stream",
     "text": [
      "0.0\n"
     ]
    }
   ],
   "source": [
    "print(mean_squared_error(df_test_target, knnpreds_test))"
   ]
  },
  {
   "cell_type": "markdown",
   "metadata": {},
   "source": [
    "## Predicting Review Score with k = 10"
   ]
  },
  {
   "cell_type": "code",
   "execution_count": 29,
   "metadata": {},
   "outputs": [
    {
     "name": "stdout",
     "output_type": "stream",
     "text": [
      "              precision    recall  f1-score   support\n",
      "\n",
      "           3       1.00      0.33      0.50         3\n",
      "           4       0.75      1.00      0.86         6\n",
      "\n",
      "    accuracy                           0.78         9\n",
      "   macro avg       0.88      0.67      0.68         9\n",
      "weighted avg       0.83      0.78      0.74         9\n",
      "\n"
     ]
    }
   ],
   "source": [
    "df_train_target = df_ProductReview[\"overall_rating\"][:lentrain]\n",
    "df_test_target = df_ProductReview[\"overall_rating\"][lentrain:lentrain+lentest]\n",
    "df_train_target = df_train_target.astype(int)\n",
    "df_test_target = df_test_target.astype(int)\n",
    "\n",
    "n_neighbors = 10\n",
    "knnclf = neighbors.KNeighborsClassifier(n_neighbors, weights='distance')\n",
    "knnclf.fit(df_Reviews_train, df_train_target)\n",
    "knnpreds_test = knnclf.predict(df_Reviews_test)\n",
    "\n",
    "print(classification_report(df_test_target, knnpreds_test))"
   ]
  },
  {
   "cell_type": "code",
   "execution_count": 30,
   "metadata": {},
   "outputs": [
    {
     "name": "stdout",
     "output_type": "stream",
     "text": [
      "0.7777777777777778\n"
     ]
    }
   ],
   "source": [
    "print (accuracy_score(df_test_target, knnpreds_test))"
   ]
  },
  {
   "cell_type": "code",
   "execution_count": 31,
   "metadata": {},
   "outputs": [
    {
     "name": "stdout",
     "output_type": "stream",
     "text": [
      "0.2222222222222222\n"
     ]
    }
   ],
   "source": [
    "print(mean_squared_error(df_test_target, knnpreds_test))"
   ]
  },
  {
   "cell_type": "markdown",
   "metadata": {},
   "source": [
    "## Predicting reviews with 85, 15 train, test split and k = 5"
   ]
  },
  {
   "cell_type": "code",
   "execution_count": 32,
   "metadata": {},
   "outputs": [],
   "source": [
    "# First let's create a dataset called X\n",
    "X = np.array(df_Reviews)\n",
    " # create train and test\n",
    "tpercent = 0.85\n",
    "tsize = int(np.floor(tpercent * len(df_Reviews)))\n",
    "df_Reviews_train = X[:tsize]\n",
    "df_Reviews_test = X[tsize:]\n",
    "#len of train and test\n",
    "lentrain = len(df_Reviews_train)\n",
    "lentest = len(df_Reviews_test)"
   ]
  },
  {
   "cell_type": "code",
   "execution_count": 33,
   "metadata": {},
   "outputs": [],
   "source": [
    "# Next we will instantiate a nearest neighbor object, and call it nbrs. Then we will fit it to dataset X.\n",
    "neighbor = NearestNeighbors(n_neighbors=5, algorithm='ball_tree').fit(df_Reviews_train)\n",
    "\n",
    "# Let's find the k-neighbors of each point in object X. To do that we call the kneighbors() function on object X.\n",
    "distances, indices = neighbor.kneighbors(df_Reviews_train)"
   ]
  },
  {
   "cell_type": "code",
   "execution_count": 34,
   "metadata": {},
   "outputs": [
    {
     "name": "stdout",
     "output_type": "stream",
     "text": [
      "Based on product reviews, for  B008RUOCJU  average rating is  3.973684210526316\n",
      "The first similar product is  B007WAEBPQ  average rating is  4.333333333333333\n",
      "The second similar product is  B004R1II48  average rating is  4.055555555555555\n",
      "-----------------------------------------------------------\n",
      "Based on product reviews, for  B008WYDP1C  average rating is  4.257028112449799\n",
      "The first similar product is  B007WA3K4Y  average rating is  4.209424083769633\n",
      "The second similar product is  B0083S18LQ  average rating is  3.9565217391304346\n",
      "-----------------------------------------------------------\n",
      "Based on product reviews, for  B008X0EW44  average rating is  3.874125874125874\n",
      "The first similar product is  B007WAEBPQ  average rating is  4.333333333333333\n",
      "The second similar product is  B0083S18LQ  average rating is  3.9565217391304346\n",
      "-----------------------------------------------------------\n",
      "Based on product reviews, for  B009DNWFD0  average rating is  3.8446601941747574\n",
      "The first similar product is  B0053XF2U2  average rating is  3.8684210526315788\n",
      "The second similar product is  B004R1II48  average rating is  4.055555555555555\n",
      "-----------------------------------------------------------\n",
      "Based on product reviews, for  B009ZDEXQK  average rating is  4.7254901960784315\n",
      "The first similar product is  B000EIJG0I  average rating is  4.594594594594595\n",
      "The second similar product is  B001Q5QLP6  average rating is  4.673913043478261\n",
      "-----------------------------------------------------------\n",
      "Based on product reviews, for  B00BNB3A0W  average rating is  3.4414414414414414\n",
      "The first similar product is  B004Z1CZDK  average rating is  3.1923076923076925\n",
      "The second similar product is  B0053XF2U2  average rating is  3.8684210526315788\n",
      "-----------------------------------------------------------\n",
      "Based on product reviews, for  B00CIBCJ62  average rating is  4.2164179104477615\n",
      "The first similar product is  B004R1II48  average rating is  4.055555555555555\n",
      "The second similar product is  B007WAEBPQ  average rating is  4.333333333333333\n",
      "-----------------------------------------------------------\n",
      "Based on product reviews, for  B00CKGB85I  average rating is  4.066666666666666\n",
      "The first similar product is  B004R1II48  average rating is  4.055555555555555\n",
      "The second similar product is  B0074T7TY0  average rating is  4.255474452554744\n",
      "-----------------------------------------------------------\n",
      "Based on product reviews, for  B00CN47GXA  average rating is  3.4634146341463414\n",
      "The first similar product is  B007WAU1VY  average rating is  3.551470588235294\n",
      "The second similar product is  B007WAEBPQ  average rating is  4.333333333333333\n",
      "-----------------------------------------------------------\n",
      "Based on product reviews, for  B00D1MR8YU  average rating is  3.83739837398374\n",
      "The first similar product is  B004R1II48  average rating is  4.055555555555555\n",
      "The second similar product is  B0053XF2U2  average rating is  3.8684210526315788\n",
      "-----------------------------------------------------------\n",
      "Based on product reviews, for  B00DMWQK0W  average rating is  4.298076923076923\n",
      "The first similar product is  B0078FXHNM  average rating is  4.26056338028169\n",
      "The second similar product is  B007WAEBPQ  average rating is  4.333333333333333\n",
      "-----------------------------------------------------------\n",
      "Based on product reviews, for  B00DMWQOYY  average rating is  4.119718309859155\n",
      "The first similar product is  B0067GUM2W  average rating is  4.174863387978142\n",
      "The second similar product is  B0078FXHNM  average rating is  4.26056338028169\n",
      "-----------------------------------------------------------\n",
      "Based on product reviews, for  B00DNQIIE8  average rating is  4.228758169934641\n",
      "The first similar product is  B0078FXHNM  average rating is  4.26056338028169\n",
      "The second similar product is  B0067GUM2W  average rating is  4.174863387978142\n",
      "-----------------------------------------------------------\n",
      "Based on product reviews, for  B00DQYNS3I  average rating is  4.526315789473684\n",
      "The first similar product is  B003YBHF82  average rating is  4.21\n",
      "The second similar product is  B000FH4JJQ  average rating is  4.536363636363636\n",
      "-----------------------------------------------------------\n"
     ]
    }
   ],
   "source": [
    "#find most related products\n",
    "for i in range(lentest):\n",
    "    a = neighbor.kneighbors([df_Reviews_test[i]])\n",
    "    related_product_list = a[1]\n",
    "\n",
    "    first_related_product = [item[0] for item in related_product_list]\n",
    "    first_related_product = str(first_related_product).strip('[]')\n",
    "    first_related_product = int(first_related_product)\n",
    "    second_related_product = [item[1] for item in related_product_list]\n",
    "    second_related_product = str(second_related_product).strip('[]')\n",
    "    second_related_product = int(second_related_product)\n",
    "    \n",
    "    print (\"Based on product reviews, for \", df_ProductReview[\"productID\"][lentrain + i] ,\" average rating is \",df_ProductReview[\"overall_rating\"][lentrain + i])\n",
    "    print (\"The first similar product is \", df_ProductReview[\"productID\"][first_related_product] ,\" average rating is \",df_ProductReview[\"overall_rating\"][first_related_product])\n",
    "    print (\"The second similar product is \", df_ProductReview[\"productID\"][second_related_product] ,\" average rating is \",df_ProductReview[\"overall_rating\"][second_related_product])\n",
    "    print (\"-----------------------------------------------------------\")"
   ]
  },
  {
   "cell_type": "markdown",
   "metadata": {},
   "source": [
    "## Predicting Review Score with k = 3"
   ]
  },
  {
   "cell_type": "code",
   "execution_count": 35,
   "metadata": {},
   "outputs": [
    {
     "name": "stdout",
     "output_type": "stream",
     "text": [
      "              precision    recall  f1-score   support\n",
      "\n",
      "           3       1.00      0.67      0.80         6\n",
      "           4       0.80      1.00      0.89         8\n",
      "\n",
      "    accuracy                           0.86        14\n",
      "   macro avg       0.90      0.83      0.84        14\n",
      "weighted avg       0.89      0.86      0.85        14\n",
      "\n"
     ]
    }
   ],
   "source": [
    "df_train_target = df_ProductReview[\"overall_rating\"][:lentrain]\n",
    "df_test_target = df_ProductReview[\"overall_rating\"][lentrain:lentrain+lentest]\n",
    "df_train_target = df_train_target.astype(int)\n",
    "df_test_target = df_test_target.astype(int)\n",
    "\n",
    "n_neighbors = 3\n",
    "knnclf = neighbors.KNeighborsClassifier(n_neighbors, weights='distance')\n",
    "knnclf.fit(df_Reviews_train, df_train_target)\n",
    "knnpreds_test = knnclf.predict(df_Reviews_test)\n",
    "\n",
    "print(classification_report(df_test_target, knnpreds_test))"
   ]
  },
  {
   "cell_type": "code",
   "execution_count": 36,
   "metadata": {},
   "outputs": [
    {
     "name": "stdout",
     "output_type": "stream",
     "text": [
      "0.8571428571428571\n"
     ]
    }
   ],
   "source": [
    "print (accuracy_score(df_test_target, knnpreds_test))"
   ]
  },
  {
   "cell_type": "code",
   "execution_count": 37,
   "metadata": {},
   "outputs": [
    {
     "name": "stdout",
     "output_type": "stream",
     "text": [
      "0.14285714285714285\n"
     ]
    }
   ],
   "source": [
    "print(mean_squared_error(df_test_target, knnpreds_test))"
   ]
  },
  {
   "cell_type": "markdown",
   "metadata": {},
   "source": [
    "## kNN with k = 3, Algorithm = Brute"
   ]
  },
  {
   "cell_type": "code",
   "execution_count": 38,
   "metadata": {},
   "outputs": [],
   "source": [
    "neighbor = NearestNeighbors(n_neighbors=3, algorithm='brute').fit(df_Reviews_train)\n",
    "\n",
    "distances, indices = neighbor.kneighbors(df_Reviews_train)"
   ]
  },
  {
   "cell_type": "code",
   "execution_count": 39,
   "metadata": {},
   "outputs": [
    {
     "name": "stdout",
     "output_type": "stream",
     "text": [
      "              precision    recall  f1-score   support\n",
      "\n",
      "           3       1.00      0.67      0.80         6\n",
      "           4       0.80      1.00      0.89         8\n",
      "\n",
      "    accuracy                           0.86        14\n",
      "   macro avg       0.90      0.83      0.84        14\n",
      "weighted avg       0.89      0.86      0.85        14\n",
      "\n",
      "Accuracy:  0.8571428571428571\n",
      "MSE:  0.14285714285714285\n"
     ]
    }
   ],
   "source": [
    "df_train_target = df_ProductReview[\"overall_rating\"][:lentrain]\n",
    "df_test_target = df_ProductReview[\"overall_rating\"][lentrain:lentrain+lentest]\n",
    "df_train_target = df_train_target.astype(int)\n",
    "df_test_target = df_test_target.astype(int)\n",
    "n_neighbors = 3\n",
    "knnclf = neighbors.KNeighborsClassifier(n_neighbors, weights='distance')\n",
    "knnclf.fit(df_Reviews_train, df_train_target)\n",
    "knnpreds_test = knnclf.predict(df_Reviews_test)\n",
    "\n",
    "print(classification_report(df_test_target, knnpreds_test))\n",
    "print (\"Accuracy: \",accuracy_score(df_test_target, knnpreds_test))\n",
    "print(\"MSE: \",mean_squared_error(df_test_target, knnpreds_test))"
   ]
  },
  {
   "cell_type": "markdown",
   "metadata": {},
   "source": [
    "## kNN with k= 8, and Algorithm = KD_Tree"
   ]
  },
  {
   "cell_type": "code",
   "execution_count": 40,
   "metadata": {},
   "outputs": [],
   "source": [
    "neighbor = NearestNeighbors(n_neighbors=8, algorithm='kd_tree').fit(df_Reviews_train)\n",
    "distances, indices = neighbor.kneighbors(df_Reviews_train)"
   ]
  },
  {
   "cell_type": "code",
   "execution_count": 41,
   "metadata": {},
   "outputs": [
    {
     "name": "stdout",
     "output_type": "stream",
     "text": [
      "              precision    recall  f1-score   support\n",
      "\n",
      "           3       0.00      0.00      0.00         6\n",
      "           4       0.57      1.00      0.73         8\n",
      "\n",
      "    accuracy                           0.57        14\n",
      "   macro avg       0.29      0.50      0.36        14\n",
      "weighted avg       0.33      0.57      0.42        14\n",
      "\n",
      "Accuracy:  0.5714285714285714\n",
      "MSE:  0.42857142857142855\n"
     ]
    },
    {
     "name": "stderr",
     "output_type": "stream",
     "text": [
      "C:\\Users\\sandhya.mukkamala\\PycharmProjects\\Conda\\lib\\site-packages\\sklearn\\metrics\\classification.py:1437: UndefinedMetricWarning: Precision and F-score are ill-defined and being set to 0.0 in labels with no predicted samples.\n",
      "  'precision', 'predicted', average, warn_for)\n"
     ]
    }
   ],
   "source": [
    "df_train_target = df_ProductReview[\"overall_rating\"][:lentrain]\n",
    "df_test_target = df_ProductReview[\"overall_rating\"][lentrain:lentrain+lentest]\n",
    "df_train_target = df_train_target.astype(int)\n",
    "df_test_target = df_test_target.astype(int)\n",
    "n_neighbors = 5\n",
    "knnclf = neighbors.KNeighborsClassifier(n_neighbors, weights='distance')\n",
    "knnclf.fit(df_Reviews_train, df_train_target)\n",
    "knnpreds_test = knnclf.predict(df_Reviews_test)\n",
    "\n",
    "print(classification_report(df_test_target, knnpreds_test))\n",
    "print (\"Accuracy: \",accuracy_score(df_test_target, knnpreds_test))\n",
    "print(\"MSE: \",mean_squared_error(df_test_target, knnpreds_test))"
   ]
  },
  {
   "cell_type": "code",
   "execution_count": 46,
   "metadata": {},
   "outputs": [
    {
     "data": {
      "image/png": "[encoded data removed]",
      "text/plain": [
       "<Figure size 432x288 with 1 Axes>"
      ]
     },
     "metadata": {
      "needs_background": "light"
     },
     "output_type": "display_data"
    }
   ],
   "source": [
    "# individual results\n",
    "K_3_bt = np.array([1.00, 1.00, 1.00, 1.00, 1.00])\n",
    "k_10_bt = np.array([0.78, 0.75, 1.00, 0.86, 0.77])\n",
    "k_5_bt = np.array([0.86, 0.80, 1.00, 0.89, 0.857])\n",
    "K_3_br = np.array([0.86, 0.80, 1.00, 0.89, 0.857])\n",
    "K_8_Tr = np.array([0.57, 0.57, 1.00, 0.73, 0.571])\n",
    "\n",
    "r_columns = ['Score (Accuracy)', 'Precision', 'Recall', 'f1-score', 'AUC']\n",
    "r_index = ['K=3,Ball_Tree', 'K=10,Ball_Tree', 'K=5,Ball_Tree', 'K=3,Brute', 'K=8,KD_Tree']\n",
    "\n",
    "results = pd.DataFrame(np.row_stack([K_3_bt, k_10_bt, k_5_bt, K_3_br, K_8_Tr]), \n",
    "                       index=r_index, columns=r_columns)\n",
    "\n",
    "# plot\n",
    "results.plot(kind='bar')\n",
    "\n",
    "# formatting\n",
    "plt.title(\"Model comparison\", fontsize=18)\n",
    "plt.xlabel(\"Model\")\n",
    "plt.ylim(0, 1)\n",
    "plt.yticks(np.arange(0, 1.1, 0.1))\n",
    "plt.axhline(y=np.max(results['AUC']), c='green', linestyle='--')\n",
    "plt.axhline(y=np.max(results[['Score (Accuracy)', 'Precision', 'Recall', 'f1-score']]).max(), c='orange', linestyle='--')\n",
    "plt.legend(bbox_to_anchor=(1, 1))\n",
    "plt.xticks(rotation=60)\n",
    "plt.subplots_adjust(left=0, bottom=-0.5, right=1.8, top=1, wspace=0, hspace=0)\n",
    "plt.show()"
   ]
  },
  {
   "cell_type": "code",
   "execution_count": null,
   "metadata": {},
   "outputs": [],
   "source": []
  }
 ],
 "metadata": {
  "kernelspec": {
   "display_name": "Python 3",
   "language": "python",
   "name": "python3"
  },
  "language_info": {
   "codemirror_mode": {
    "name": "ipython",
    "version": 3
   },
   "file_extension": ".py",
   "mimetype": "text/x-python",
   "name": "python",
   "nbconvert_exporter": "python",
   "pygments_lexer": "ipython3",
   "version": "3.7.4"
  }
 },
 "nbformat": 4,
 "nbformat_minor": 2
}
