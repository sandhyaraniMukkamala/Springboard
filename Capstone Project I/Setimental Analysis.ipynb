{
 "cells": [
  {
   "cell_type": "markdown",
   "metadata": {},
   "source": [
    "## Amazon Product Sentiment Analysis"
   ]
  },
  {
   "cell_type": "code",
   "execution_count": 60,
   "metadata": {},
   "outputs": [
    {
     "name": "stderr",
     "output_type": "stream",
     "text": [
      "[nltk_data] Downloading package stopwords to\n",
      "[nltk_data]     C:\\Users\\sandhya.mukkamala\\AppData\\Roaming\\nltk_data..\n",
      "[nltk_data]     .\n",
      "[nltk_data]   Package stopwords is already up-to-date!\n",
      "[nltk_data] Downloading package wordnet to\n",
      "[nltk_data]     C:\\Users\\sandhya.mukkamala\\AppData\\Roaming\\nltk_data..\n",
      "[nltk_data]     .\n",
      "[nltk_data]   Package wordnet is already up-to-date!\n",
      "[nltk_data] Downloading package averaged_perceptron_tagger to\n",
      "[nltk_data]     C:\\Users\\sandhya.mukkamala\\AppData\\Roaming\\nltk_data..\n",
      "[nltk_data]     .\n",
      "[nltk_data]   Unzipping taggers\\averaged_perceptron_tagger.zip.\n"
     ]
    },
    {
     "data": {
      "text/plain": [
       "True"
      ]
     },
     "execution_count": 60,
     "metadata": {},
     "output_type": "execute_result"
    }
   ],
   "source": [
    "# Import the required libraries\n",
    "import pandas as pd\n",
    "import numpy as np\n",
    "import matplotlib.pyplot as plt\n",
    "import seaborn as sns\n",
    "from sklearn.feature_extraction.text import CountVectorizer\n",
    "from sklearn.feature_extraction.text import TfidfVectorizer\n",
    "from sklearn.linear_model import LogisticRegression\n",
    "from sklearn.model_selection import train_test_split\n",
    "from sklearn.dummy import DummyClassifier\n",
    "from string import punctuation\n",
    "from sklearn import svm\n",
    "from nltk.corpus import stopwords\n",
    "from nltk.stem import WordNetLemmatizer\n",
    "import nltk\n",
    "from nltk import ngrams\n",
    "from itertools import chain\n",
    "from wordcloud import WordCloud\n",
    "from fractions import Fraction\n",
    "import re\n",
    "nltk.download('stopwords')\n",
    "nltk.download('wordnet')\n",
    "nltk.download('averaged_perceptron_tagger')"
   ]
  },
  {
   "cell_type": "code",
   "execution_count": 3,
   "metadata": {},
   "outputs": [],
   "source": [
    "# Covert json file into csv\n",
    "df = pd.read_json('Clothing_Shoes_and_Jewelry_5.json', lines=True)\n",
    "df.to_csv('reviews.csv', sep=',', index=False)"
   ]
  },
  {
   "cell_type": "code",
   "execution_count": 4,
   "metadata": {},
   "outputs": [
    {
     "data": {
      "text/html": [
       "<div>\n",
       "<style scoped>\n",
       "    .dataframe tbody tr th:only-of-type {\n",
       "        vertical-align: middle;\n",
       "    }\n",
       "\n",
       "    .dataframe tbody tr th {\n",
       "        vertical-align: top;\n",
       "    }\n",
       "\n",
       "    .dataframe thead th {\n",
       "        text-align: right;\n",
       "    }\n",
       "</style>\n",
       "<table border=\"1\" class=\"dataframe\">\n",
       "  <thead>\n",
       "    <tr style=\"text-align: right;\">\n",
       "      <th></th>\n",
       "      <th>reviewerID</th>\n",
       "      <th>asin</th>\n",
       "      <th>reviewerName</th>\n",
       "      <th>helpful</th>\n",
       "      <th>reviewText</th>\n",
       "      <th>overall</th>\n",
       "      <th>summary</th>\n",
       "      <th>unixReviewTime</th>\n",
       "      <th>reviewTime</th>\n",
       "    </tr>\n",
       "  </thead>\n",
       "  <tbody>\n",
       "    <tr>\n",
       "      <td>0</td>\n",
       "      <td>A1KLRMWW2FWPL4</td>\n",
       "      <td>0000031887</td>\n",
       "      <td>Amazon Customer \"cameramom\"</td>\n",
       "      <td>[0, 0]</td>\n",
       "      <td>This is a great tutu and at a really great pri...</td>\n",
       "      <td>5</td>\n",
       "      <td>Great tutu-  not cheaply made</td>\n",
       "      <td>1297468800</td>\n",
       "      <td>02 12, 2011</td>\n",
       "    </tr>\n",
       "    <tr>\n",
       "      <td>1</td>\n",
       "      <td>A2G5TCU2WDFZ65</td>\n",
       "      <td>0000031887</td>\n",
       "      <td>Amazon Customer</td>\n",
       "      <td>[0, 0]</td>\n",
       "      <td>I bought this for my 4 yr old daughter for dan...</td>\n",
       "      <td>5</td>\n",
       "      <td>Very Cute!!</td>\n",
       "      <td>1358553600</td>\n",
       "      <td>01 19, 2013</td>\n",
       "    </tr>\n",
       "    <tr>\n",
       "      <td>2</td>\n",
       "      <td>A1RLQXYNCMWRWN</td>\n",
       "      <td>0000031887</td>\n",
       "      <td>Carola</td>\n",
       "      <td>[0, 0]</td>\n",
       "      <td>What can I say... my daughters have it in oran...</td>\n",
       "      <td>5</td>\n",
       "      <td>I have buy more than one</td>\n",
       "      <td>1357257600</td>\n",
       "      <td>01 4, 2013</td>\n",
       "    </tr>\n",
       "    <tr>\n",
       "      <td>3</td>\n",
       "      <td>A8U3FAMSJVHS5</td>\n",
       "      <td>0000031887</td>\n",
       "      <td>Caromcg</td>\n",
       "      <td>[0, 0]</td>\n",
       "      <td>We bought several tutus at once, and they are ...</td>\n",
       "      <td>5</td>\n",
       "      <td>Adorable, Sturdy</td>\n",
       "      <td>1398556800</td>\n",
       "      <td>04 27, 2014</td>\n",
       "    </tr>\n",
       "    <tr>\n",
       "      <td>4</td>\n",
       "      <td>A3GEOILWLK86XM</td>\n",
       "      <td>0000031887</td>\n",
       "      <td>CJ</td>\n",
       "      <td>[0, 0]</td>\n",
       "      <td>Thank you Halo Heaven great product for Little...</td>\n",
       "      <td>5</td>\n",
       "      <td>Grammy's Angels Love it</td>\n",
       "      <td>1394841600</td>\n",
       "      <td>03 15, 2014</td>\n",
       "    </tr>\n",
       "  </tbody>\n",
       "</table>\n",
       "</div>"
      ],
      "text/plain": [
       "       reviewerID        asin                 reviewerName helpful  \\\n",
       "0  A1KLRMWW2FWPL4  0000031887  Amazon Customer \"cameramom\"  [0, 0]   \n",
       "1  A2G5TCU2WDFZ65  0000031887              Amazon Customer  [0, 0]   \n",
       "2  A1RLQXYNCMWRWN  0000031887                       Carola  [0, 0]   \n",
       "3   A8U3FAMSJVHS5  0000031887                      Caromcg  [0, 0]   \n",
       "4  A3GEOILWLK86XM  0000031887                           CJ  [0, 0]   \n",
       "\n",
       "                                          reviewText  overall  \\\n",
       "0  This is a great tutu and at a really great pri...        5   \n",
       "1  I bought this for my 4 yr old daughter for dan...        5   \n",
       "2  What can I say... my daughters have it in oran...        5   \n",
       "3  We bought several tutus at once, and they are ...        5   \n",
       "4  Thank you Halo Heaven great product for Little...        5   \n",
       "\n",
       "                         summary  unixReviewTime   reviewTime  \n",
       "0  Great tutu-  not cheaply made      1297468800  02 12, 2011  \n",
       "1                    Very Cute!!      1358553600  01 19, 2013  \n",
       "2       I have buy more than one      1357257600   01 4, 2013  \n",
       "3               Adorable, Sturdy      1398556800  04 27, 2014  \n",
       "4        Grammy's Angels Love it      1394841600  03 15, 2014  "
      ]
     },
     "execution_count": 4,
     "metadata": {},
     "output_type": "execute_result"
    }
   ],
   "source": [
    "df.head()"
   ]
  },
  {
   "cell_type": "code",
   "execution_count": 6,
   "metadata": {},
   "outputs": [],
   "source": [
    "# adding new columns to perform the efficiency of helpfulness metrics\n",
    "df[['HelpfulnessNumerator','HelpfulnessDenominator']] = pd.DataFrame(df.helpful.values.tolist(), index = df.index)"
   ]
  },
  {
   "cell_type": "code",
   "execution_count": 7,
   "metadata": {},
   "outputs": [
    {
     "data": {
      "text/html": [
       "<div>\n",
       "<style scoped>\n",
       "    .dataframe tbody tr th:only-of-type {\n",
       "        vertical-align: middle;\n",
       "    }\n",
       "\n",
       "    .dataframe tbody tr th {\n",
       "        vertical-align: top;\n",
       "    }\n",
       "\n",
       "    .dataframe thead th {\n",
       "        text-align: right;\n",
       "    }\n",
       "</style>\n",
       "<table border=\"1\" class=\"dataframe\">\n",
       "  <thead>\n",
       "    <tr style=\"text-align: right;\">\n",
       "      <th></th>\n",
       "      <th>reviewerID</th>\n",
       "      <th>asin</th>\n",
       "      <th>reviewerName</th>\n",
       "      <th>helpful</th>\n",
       "      <th>reviewText</th>\n",
       "      <th>overall</th>\n",
       "      <th>summary</th>\n",
       "      <th>unixReviewTime</th>\n",
       "      <th>reviewTime</th>\n",
       "      <th>HelpfulnessNumerator</th>\n",
       "      <th>HelpfulnessDenominator</th>\n",
       "    </tr>\n",
       "  </thead>\n",
       "  <tbody>\n",
       "    <tr>\n",
       "      <td>0</td>\n",
       "      <td>A1KLRMWW2FWPL4</td>\n",
       "      <td>0000031887</td>\n",
       "      <td>Amazon Customer \"cameramom\"</td>\n",
       "      <td>[0, 0]</td>\n",
       "      <td>This is a great tutu and at a really great pri...</td>\n",
       "      <td>5</td>\n",
       "      <td>Great tutu-  not cheaply made</td>\n",
       "      <td>1297468800</td>\n",
       "      <td>02 12, 2011</td>\n",
       "      <td>0</td>\n",
       "      <td>0</td>\n",
       "    </tr>\n",
       "    <tr>\n",
       "      <td>1</td>\n",
       "      <td>A2G5TCU2WDFZ65</td>\n",
       "      <td>0000031887</td>\n",
       "      <td>Amazon Customer</td>\n",
       "      <td>[0, 0]</td>\n",
       "      <td>I bought this for my 4 yr old daughter for dan...</td>\n",
       "      <td>5</td>\n",
       "      <td>Very Cute!!</td>\n",
       "      <td>1358553600</td>\n",
       "      <td>01 19, 2013</td>\n",
       "      <td>0</td>\n",
       "      <td>0</td>\n",
       "    </tr>\n",
       "    <tr>\n",
       "      <td>2</td>\n",
       "      <td>A1RLQXYNCMWRWN</td>\n",
       "      <td>0000031887</td>\n",
       "      <td>Carola</td>\n",
       "      <td>[0, 0]</td>\n",
       "      <td>What can I say... my daughters have it in oran...</td>\n",
       "      <td>5</td>\n",
       "      <td>I have buy more than one</td>\n",
       "      <td>1357257600</td>\n",
       "      <td>01 4, 2013</td>\n",
       "      <td>0</td>\n",
       "      <td>0</td>\n",
       "    </tr>\n",
       "    <tr>\n",
       "      <td>3</td>\n",
       "      <td>A8U3FAMSJVHS5</td>\n",
       "      <td>0000031887</td>\n",
       "      <td>Caromcg</td>\n",
       "      <td>[0, 0]</td>\n",
       "      <td>We bought several tutus at once, and they are ...</td>\n",
       "      <td>5</td>\n",
       "      <td>Adorable, Sturdy</td>\n",
       "      <td>1398556800</td>\n",
       "      <td>04 27, 2014</td>\n",
       "      <td>0</td>\n",
       "      <td>0</td>\n",
       "    </tr>\n",
       "    <tr>\n",
       "      <td>4</td>\n",
       "      <td>A3GEOILWLK86XM</td>\n",
       "      <td>0000031887</td>\n",
       "      <td>CJ</td>\n",
       "      <td>[0, 0]</td>\n",
       "      <td>Thank you Halo Heaven great product for Little...</td>\n",
       "      <td>5</td>\n",
       "      <td>Grammy's Angels Love it</td>\n",
       "      <td>1394841600</td>\n",
       "      <td>03 15, 2014</td>\n",
       "      <td>0</td>\n",
       "      <td>0</td>\n",
       "    </tr>\n",
       "  </tbody>\n",
       "</table>\n",
       "</div>"
      ],
      "text/plain": [
       "       reviewerID        asin                 reviewerName helpful  \\\n",
       "0  A1KLRMWW2FWPL4  0000031887  Amazon Customer \"cameramom\"  [0, 0]   \n",
       "1  A2G5TCU2WDFZ65  0000031887              Amazon Customer  [0, 0]   \n",
       "2  A1RLQXYNCMWRWN  0000031887                       Carola  [0, 0]   \n",
       "3   A8U3FAMSJVHS5  0000031887                      Caromcg  [0, 0]   \n",
       "4  A3GEOILWLK86XM  0000031887                           CJ  [0, 0]   \n",
       "\n",
       "                                          reviewText  overall  \\\n",
       "0  This is a great tutu and at a really great pri...        5   \n",
       "1  I bought this for my 4 yr old daughter for dan...        5   \n",
       "2  What can I say... my daughters have it in oran...        5   \n",
       "3  We bought several tutus at once, and they are ...        5   \n",
       "4  Thank you Halo Heaven great product for Little...        5   \n",
       "\n",
       "                         summary  unixReviewTime   reviewTime  \\\n",
       "0  Great tutu-  not cheaply made      1297468800  02 12, 2011   \n",
       "1                    Very Cute!!      1358553600  01 19, 2013   \n",
       "2       I have buy more than one      1357257600   01 4, 2013   \n",
       "3               Adorable, Sturdy      1398556800  04 27, 2014   \n",
       "4        Grammy's Angels Love it      1394841600  03 15, 2014   \n",
       "\n",
       "   HelpfulnessNumerator  HelpfulnessDenominator  \n",
       "0                     0                       0  \n",
       "1                     0                       0  \n",
       "2                     0                       0  \n",
       "3                     0                       0  \n",
       "4                     0                       0  "
      ]
     },
     "execution_count": 7,
     "metadata": {},
     "output_type": "execute_result"
    }
   ],
   "source": [
    "df.head()"
   ]
  },
  {
   "cell_type": "markdown",
   "metadata": {},
   "source": [
    "### Data preprocessing"
   ]
  },
  {
   "cell_type": "markdown",
   "metadata": {},
   "source": [
    "Remove the duplicates if any, based on the reviewerID, productID (asin) and unix timestamp. Adding the upvote metrics to analyze the dataset"
   ]
  },
  {
   "cell_type": "code",
   "execution_count": 9,
   "metadata": {},
   "outputs": [
    {
     "data": {
      "text/html": [
       "<div>\n",
       "<style scoped>\n",
       "    .dataframe tbody tr th:only-of-type {\n",
       "        vertical-align: middle;\n",
       "    }\n",
       "\n",
       "    .dataframe tbody tr th {\n",
       "        vertical-align: top;\n",
       "    }\n",
       "\n",
       "    .dataframe thead th {\n",
       "        text-align: right;\n",
       "    }\n",
       "</style>\n",
       "<table border=\"1\" class=\"dataframe\">\n",
       "  <thead>\n",
       "    <tr style=\"text-align: right;\">\n",
       "      <th></th>\n",
       "      <th>reviewerID</th>\n",
       "      <th>asin</th>\n",
       "      <th>reviewerName</th>\n",
       "      <th>helpful</th>\n",
       "      <th>reviewText</th>\n",
       "      <th>overall</th>\n",
       "      <th>summary</th>\n",
       "      <th>unixReviewTime</th>\n",
       "      <th>reviewTime</th>\n",
       "      <th>HelpfulnessNumerator</th>\n",
       "      <th>HelpfulnessDenominator</th>\n",
       "      <th>Helpful %</th>\n",
       "      <th>% Upvote</th>\n",
       "      <th>Id</th>\n",
       "    </tr>\n",
       "  </thead>\n",
       "  <tbody>\n",
       "    <tr>\n",
       "      <td>0</td>\n",
       "      <td>A1KLRMWW2FWPL4</td>\n",
       "      <td>0000031887</td>\n",
       "      <td>Amazon Customer \"cameramom\"</td>\n",
       "      <td>[0, 0]</td>\n",
       "      <td>This is a great tutu and at a really great pri...</td>\n",
       "      <td>5</td>\n",
       "      <td>Great tutu-  not cheaply made</td>\n",
       "      <td>1297468800</td>\n",
       "      <td>02 12, 2011</td>\n",
       "      <td>0</td>\n",
       "      <td>0</td>\n",
       "      <td>-1.0</td>\n",
       "      <td>Empty</td>\n",
       "      <td>0</td>\n",
       "    </tr>\n",
       "    <tr>\n",
       "      <td>1</td>\n",
       "      <td>A2G5TCU2WDFZ65</td>\n",
       "      <td>0000031887</td>\n",
       "      <td>Amazon Customer</td>\n",
       "      <td>[0, 0]</td>\n",
       "      <td>I bought this for my 4 yr old daughter for dan...</td>\n",
       "      <td>5</td>\n",
       "      <td>Very Cute!!</td>\n",
       "      <td>1358553600</td>\n",
       "      <td>01 19, 2013</td>\n",
       "      <td>0</td>\n",
       "      <td>0</td>\n",
       "      <td>-1.0</td>\n",
       "      <td>Empty</td>\n",
       "      <td>1</td>\n",
       "    </tr>\n",
       "    <tr>\n",
       "      <td>2</td>\n",
       "      <td>A1RLQXYNCMWRWN</td>\n",
       "      <td>0000031887</td>\n",
       "      <td>Carola</td>\n",
       "      <td>[0, 0]</td>\n",
       "      <td>What can I say... my daughters have it in oran...</td>\n",
       "      <td>5</td>\n",
       "      <td>I have buy more than one</td>\n",
       "      <td>1357257600</td>\n",
       "      <td>01 4, 2013</td>\n",
       "      <td>0</td>\n",
       "      <td>0</td>\n",
       "      <td>-1.0</td>\n",
       "      <td>Empty</td>\n",
       "      <td>2</td>\n",
       "    </tr>\n",
       "    <tr>\n",
       "      <td>3</td>\n",
       "      <td>A8U3FAMSJVHS5</td>\n",
       "      <td>0000031887</td>\n",
       "      <td>Caromcg</td>\n",
       "      <td>[0, 0]</td>\n",
       "      <td>We bought several tutus at once, and they are ...</td>\n",
       "      <td>5</td>\n",
       "      <td>Adorable, Sturdy</td>\n",
       "      <td>1398556800</td>\n",
       "      <td>04 27, 2014</td>\n",
       "      <td>0</td>\n",
       "      <td>0</td>\n",
       "      <td>-1.0</td>\n",
       "      <td>Empty</td>\n",
       "      <td>3</td>\n",
       "    </tr>\n",
       "    <tr>\n",
       "      <td>4</td>\n",
       "      <td>A3GEOILWLK86XM</td>\n",
       "      <td>0000031887</td>\n",
       "      <td>CJ</td>\n",
       "      <td>[0, 0]</td>\n",
       "      <td>Thank you Halo Heaven great product for Little...</td>\n",
       "      <td>5</td>\n",
       "      <td>Grammy's Angels Love it</td>\n",
       "      <td>1394841600</td>\n",
       "      <td>03 15, 2014</td>\n",
       "      <td>0</td>\n",
       "      <td>0</td>\n",
       "      <td>-1.0</td>\n",
       "      <td>Empty</td>\n",
       "      <td>4</td>\n",
       "    </tr>\n",
       "    <tr>\n",
       "      <td>...</td>\n",
       "      <td>...</td>\n",
       "      <td>...</td>\n",
       "      <td>...</td>\n",
       "      <td>...</td>\n",
       "      <td>...</td>\n",
       "      <td>...</td>\n",
       "      <td>...</td>\n",
       "      <td>...</td>\n",
       "      <td>...</td>\n",
       "      <td>...</td>\n",
       "      <td>...</td>\n",
       "      <td>...</td>\n",
       "      <td>...</td>\n",
       "      <td>...</td>\n",
       "    </tr>\n",
       "    <tr>\n",
       "      <td>278672</td>\n",
       "      <td>A2DG63DN704LOI</td>\n",
       "      <td>B00KKXCJQU</td>\n",
       "      <td>ESlayd</td>\n",
       "      <td>[0, 1]</td>\n",
       "      <td>I don't normally go ga-ga over a product very ...</td>\n",
       "      <td>5</td>\n",
       "      <td>These have literally changed the way I travel!</td>\n",
       "      <td>1403568000</td>\n",
       "      <td>06 24, 2014</td>\n",
       "      <td>0</td>\n",
       "      <td>1</td>\n",
       "      <td>0.0</td>\n",
       "      <td>Empty</td>\n",
       "      <td>278672</td>\n",
       "    </tr>\n",
       "    <tr>\n",
       "      <td>278673</td>\n",
       "      <td>A1EVV74UQYVKRY</td>\n",
       "      <td>B00KKXCJQU</td>\n",
       "      <td>K. Groh</td>\n",
       "      <td>[0, 0]</td>\n",
       "      <td>I've been traveling back and forth to England ...</td>\n",
       "      <td>5</td>\n",
       "      <td>Wonderful for Better Packing</td>\n",
       "      <td>1403740800</td>\n",
       "      <td>06 26, 2014</td>\n",
       "      <td>0</td>\n",
       "      <td>0</td>\n",
       "      <td>-1.0</td>\n",
       "      <td>Empty</td>\n",
       "      <td>278673</td>\n",
       "    </tr>\n",
       "    <tr>\n",
       "      <td>278674</td>\n",
       "      <td>A1UQBFCERIP7VJ</td>\n",
       "      <td>B00KKXCJQU</td>\n",
       "      <td>Margaret Picky</td>\n",
       "      <td>[1, 1]</td>\n",
       "      <td>These are very nice packing cubes and the 18 x...</td>\n",
       "      <td>5</td>\n",
       "      <td>Convenient, lightweight, and durable</td>\n",
       "      <td>1402185600</td>\n",
       "      <td>06 8, 2014</td>\n",
       "      <td>1</td>\n",
       "      <td>1</td>\n",
       "      <td>1.0</td>\n",
       "      <td>80-100%</td>\n",
       "      <td>278674</td>\n",
       "    </tr>\n",
       "    <tr>\n",
       "      <td>278675</td>\n",
       "      <td>A22CW0ZHY3NJH8</td>\n",
       "      <td>B00KKXCJQU</td>\n",
       "      <td>Noname</td>\n",
       "      <td>[2, 2]</td>\n",
       "      <td>I am on vacation with my family of four and th...</td>\n",
       "      <td>5</td>\n",
       "      <td>Holds Up Well In Real World Test</td>\n",
       "      <td>1404691200</td>\n",
       "      <td>07 7, 2014</td>\n",
       "      <td>2</td>\n",
       "      <td>2</td>\n",
       "      <td>1.0</td>\n",
       "      <td>80-100%</td>\n",
       "      <td>278675</td>\n",
       "    </tr>\n",
       "    <tr>\n",
       "      <td>278676</td>\n",
       "      <td>A30VWT3R25QAVD</td>\n",
       "      <td>B00KKXCJQU</td>\n",
       "      <td>THE-DEADLY-DOG \"Living and Loving Life.\"</td>\n",
       "      <td>[0, 1]</td>\n",
       "      <td>When I signed up to receive a free set of Shac...</td>\n",
       "      <td>5</td>\n",
       "      <td>Don't Travel? Still Way too Useful for 'Averag...</td>\n",
       "      <td>1403481600</td>\n",
       "      <td>06 23, 2014</td>\n",
       "      <td>0</td>\n",
       "      <td>1</td>\n",
       "      <td>0.0</td>\n",
       "      <td>Empty</td>\n",
       "      <td>278676</td>\n",
       "    </tr>\n",
       "  </tbody>\n",
       "</table>\n",
       "<p>278677 rows × 14 columns</p>\n",
       "</div>"
      ],
      "text/plain": [
       "            reviewerID        asin                              reviewerName  \\\n",
       "0       A1KLRMWW2FWPL4  0000031887               Amazon Customer \"cameramom\"   \n",
       "1       A2G5TCU2WDFZ65  0000031887                           Amazon Customer   \n",
       "2       A1RLQXYNCMWRWN  0000031887                                    Carola   \n",
       "3        A8U3FAMSJVHS5  0000031887                                   Caromcg   \n",
       "4       A3GEOILWLK86XM  0000031887                                        CJ   \n",
       "...                ...         ...                                       ...   \n",
       "278672  A2DG63DN704LOI  B00KKXCJQU                                    ESlayd   \n",
       "278673  A1EVV74UQYVKRY  B00KKXCJQU                                   K. Groh   \n",
       "278674  A1UQBFCERIP7VJ  B00KKXCJQU                            Margaret Picky   \n",
       "278675  A22CW0ZHY3NJH8  B00KKXCJQU                                    Noname   \n",
       "278676  A30VWT3R25QAVD  B00KKXCJQU  THE-DEADLY-DOG \"Living and Loving Life.\"   \n",
       "\n",
       "       helpful                                         reviewText  overall  \\\n",
       "0       [0, 0]  This is a great tutu and at a really great pri...        5   \n",
       "1       [0, 0]  I bought this for my 4 yr old daughter for dan...        5   \n",
       "2       [0, 0]  What can I say... my daughters have it in oran...        5   \n",
       "3       [0, 0]  We bought several tutus at once, and they are ...        5   \n",
       "4       [0, 0]  Thank you Halo Heaven great product for Little...        5   \n",
       "...        ...                                                ...      ...   \n",
       "278672  [0, 1]  I don't normally go ga-ga over a product very ...        5   \n",
       "278673  [0, 0]  I've been traveling back and forth to England ...        5   \n",
       "278674  [1, 1]  These are very nice packing cubes and the 18 x...        5   \n",
       "278675  [2, 2]  I am on vacation with my family of four and th...        5   \n",
       "278676  [0, 1]  When I signed up to receive a free set of Shac...        5   \n",
       "\n",
       "                                                  summary  unixReviewTime  \\\n",
       "0                           Great tutu-  not cheaply made      1297468800   \n",
       "1                                             Very Cute!!      1358553600   \n",
       "2                                I have buy more than one      1357257600   \n",
       "3                                        Adorable, Sturdy      1398556800   \n",
       "4                                 Grammy's Angels Love it      1394841600   \n",
       "...                                                   ...             ...   \n",
       "278672     These have literally changed the way I travel!      1403568000   \n",
       "278673                       Wonderful for Better Packing      1403740800   \n",
       "278674               Convenient, lightweight, and durable      1402185600   \n",
       "278675                   Holds Up Well In Real World Test      1404691200   \n",
       "278676  Don't Travel? Still Way too Useful for 'Averag...      1403481600   \n",
       "\n",
       "         reviewTime  HelpfulnessNumerator  HelpfulnessDenominator  Helpful %  \\\n",
       "0       02 12, 2011                     0                       0       -1.0   \n",
       "1       01 19, 2013                     0                       0       -1.0   \n",
       "2        01 4, 2013                     0                       0       -1.0   \n",
       "3       04 27, 2014                     0                       0       -1.0   \n",
       "4       03 15, 2014                     0                       0       -1.0   \n",
       "...             ...                   ...                     ...        ...   \n",
       "278672  06 24, 2014                     0                       1        0.0   \n",
       "278673  06 26, 2014                     0                       0       -1.0   \n",
       "278674   06 8, 2014                     1                       1        1.0   \n",
       "278675   07 7, 2014                     2                       2        1.0   \n",
       "278676  06 23, 2014                     0                       1        0.0   \n",
       "\n",
       "       % Upvote      Id  \n",
       "0         Empty       0  \n",
       "1         Empty       1  \n",
       "2         Empty       2  \n",
       "3         Empty       3  \n",
       "4         Empty       4  \n",
       "...         ...     ...  \n",
       "278672    Empty  278672  \n",
       "278673    Empty  278673  \n",
       "278674  80-100%  278674  \n",
       "278675  80-100%  278675  \n",
       "278676    Empty  278676  \n",
       "\n",
       "[278677 rows x 14 columns]"
      ]
     },
     "execution_count": 9,
     "metadata": {},
     "output_type": "execute_result"
    }
   ],
   "source": [
    "#Cleaning the data by eliminating duplicates\n",
    "df.drop_duplicates(subset=['reviewerID', 'asin','unixReviewTime'],inplace=True)\n",
    "\n",
    "#Adding the helpfulness and upvote percentages for metrics\n",
    "df['Helpful %'] = np.where(df['HelpfulnessDenominator'] > 0, df['HelpfulnessNumerator'] / df['HelpfulnessDenominator'], -1)\n",
    "df['% Upvote'] = pd.cut(df['Helpful %'], bins = [-1, 0, 0.2, 0.4, 0.6, 0.8, 1.0], labels = ['Empty', '0-20%', '20-40%', '40-60%', '60-80%', '80-100%'], include_lowest = True)\n",
    "df['Id'] = df.index;\n",
    "df"
   ]
  },
  {
   "cell_type": "code",
   "execution_count": 11,
   "metadata": {},
   "outputs": [
    {
     "data": {
      "image/png": "[encoded data removed]",
      "text/plain": [
       "<Figure size 1080x720 with 2 Axes>"
      ]
     },
     "metadata": {
      "needs_background": "light"
     },
     "output_type": "display_data"
    }
   ],
   "source": [
    "# find how useful are the user reviews\n",
    "df1 = df.groupby(['overall', '% Upvote']).agg({'Id': 'count'})\n",
    "df1 = df1.unstack()\n",
    "df1.columns = df1.columns.get_level_values(1)\n",
    "fig = plt.figure(figsize=(15,10))\n",
    "\n",
    "sns.heatmap(df1[df1.columns[::-1]].T, cmap = 'YlOrRd', linewidths=.5, annot = True, fmt = 'd', cbar_kws={'label': '# reviews'})\n",
    "plt.yticks(rotation=0)\n",
    "plt.title('How helpful are user scores')\n",
    "plt.show()"
   ]
  },
  {
   "cell_type": "markdown",
   "metadata": {},
   "source": [
    "We can remove the rating of 3 and convert the reviews into binary, 1 - positive, 0 - negative for better analysis as rating 3 is neither good not bad and we dont get much out of it"
   ]
  },
  {
   "cell_type": "code",
   "execution_count": 15,
   "metadata": {},
   "outputs": [],
   "source": [
    "reviews =  df[df['overall'] != 3]\n",
    "X = reviews['reviewText']\n",
    "y_dict = {1:0, 2:0, 4:1, 5:1}\n",
    "y = reviews['overall'].map(y_dict)"
   ]
  },
  {
   "cell_type": "code",
   "execution_count": 19,
   "metadata": {},
   "outputs": [
    {
     "name": "stdout",
     "output_type": "stream",
     "text": [
      "# features: 73968\n",
      "# train records: 186189\n",
      "# test records: 62063\n"
     ]
    },
    {
     "name": "stderr",
     "output_type": "stream",
     "text": [
      "C:\\Users\\sandhya.mukkamala\\PycharmProjects\\Conda\\lib\\site-packages\\sklearn\\linear_model\\logistic.py:432: FutureWarning: Default solver will be changed to 'lbfgs' in 0.22. Specify a solver to silence this warning.\n",
      "  FutureWarning)\n"
     ]
    },
    {
     "name": "stdout",
     "output_type": "stream",
     "text": [
      "Model Accuracy: 0.9370639511464157\n",
      "\n",
      "Top 20 positive\n",
      "        Word  Coefficient\n",
      "  pleasantly     3.226059\n",
      "      hiding     2.356712\n",
      " compliments     2.260568\n",
      "     alittle     2.044379\n",
      "       loves     2.034339\n",
      "        gore     2.033173\n",
      "    precious     2.002526\n",
      "    softened     1.992407\n",
      "       comet     1.989498\n",
      " appreciated     1.962651\n",
      "        beat     1.890330\n",
      "      highly     1.880804\n",
      "   complaint     1.836577\n",
      "     quicker     1.834540\n",
      "     worried     1.806284\n",
      "        glad     1.804042\n",
      "   organized     1.798408\n",
      "      chubby     1.794730\n",
      "        hugs     1.785729\n",
      "     pleased     1.760432\n",
      "\n",
      "Top 20 negative\n",
      "           Word  Coefficient\n",
      "        ugliest    -1.990887\n",
      "       returned    -1.995907\n",
      "          awful    -2.010392\n",
      "        presses    -2.016764\n",
      "     unwearable    -2.033194\n",
      "           tore    -2.105088\n",
      "           skip    -2.129849\n",
      "   unacceptable    -2.133191\n",
      "      worthless    -2.155625\n",
      "        donated    -2.220157\n",
      " disappointment    -2.274072\n",
      "         poorly    -2.287932\n",
      "       goodwill    -2.294153\n",
      "        defeats    -2.364391\n",
      "       pointing    -2.391654\n",
      "        useless    -2.471210\n",
      "          worst    -2.472146\n",
      "  disappointing    -2.484397\n",
      "          shame    -2.544150\n",
      "           poor    -2.777634\n"
     ]
    }
   ],
   "source": [
    "# Performing logistic regression on word count\n",
    "c = CountVectorizer(stop_words = 'english')\n",
    "\n",
    "def text_fit(X, y, model,clf_model,coef_show=1):\n",
    "    \n",
    "    X_c = model.fit_transform(X)\n",
    "    print('# features: {}'.format(X_c.shape[1]))\n",
    "    X_train, X_test, y_train, y_test = train_test_split(X_c, y, random_state=0)\n",
    "    print('# train records: {}'.format(X_train.shape[0]))\n",
    "    print('# test records: {}'.format(X_test.shape[0]))\n",
    "    clf = clf_model.fit(X_train, y_train)\n",
    "    acc = clf.score(X_test, y_test)\n",
    "    print ('Model Accuracy: {}'.format(acc))\n",
    "    \n",
    "    if coef_show == 1: \n",
    "        w = model.get_feature_names()\n",
    "        coef = clf.coef_.tolist()[0]\n",
    "        coeff_df = pd.DataFrame({'Word' : w, 'Coefficient' : coef})\n",
    "        coeff_df = coeff_df.sort_values(['Coefficient', 'Word'], ascending=[0, 1])\n",
    "        print('')\n",
    "        print('Top 20 positive')\n",
    "        print(coeff_df.head(20).to_string(index=False))\n",
    "        print('')\n",
    "        print('Top 20 negative')        \n",
    "        print(coeff_df.tail(20).to_string(index=False))\n",
    "    \n",
    "    \n",
    "text_fit(X, y, c, LogisticRegression())"
   ]
  },
  {
   "cell_type": "markdown",
   "metadata": {},
   "source": [
    "It can observed that the few words with highest positive and negative coeffcient doesn't make sense such as (complaint - 1.836577, worried - 1.806284, goodwill - -2.294153). Baseline accuracy of the model is as follows:"
   ]
  },
  {
   "cell_type": "code",
   "execution_count": 20,
   "metadata": {},
   "outputs": [
    {
     "name": "stdout",
     "output_type": "stream",
     "text": [
      "# features: 73968\n",
      "# train records: 186189\n",
      "# test records: 62063\n",
      "Model Accuracy: 0.8101445305576591\n"
     ]
    }
   ],
   "source": [
    "text_fit(X, y, c, DummyClassifier(),0)"
   ]
  },
  {
   "cell_type": "markdown",
   "metadata": {},
   "source": [
    "TF-IDF vectorizer is added to logistic regression to improve the model accuracy"
   ]
  },
  {
   "cell_type": "code",
   "execution_count": 22,
   "metadata": {},
   "outputs": [
    {
     "name": "stdout",
     "output_type": "stream",
     "text": [
      "# features: 73968\n",
      "# train records: 186189\n",
      "# test records: 62063\n"
     ]
    },
    {
     "name": "stderr",
     "output_type": "stream",
     "text": [
      "C:\\Users\\sandhya.mukkamala\\PycharmProjects\\Conda\\lib\\site-packages\\sklearn\\linear_model\\logistic.py:432: FutureWarning: Default solver will be changed to 'lbfgs' in 0.22. Specify a solver to silence this warning.\n",
      "  FutureWarning)\n"
     ]
    },
    {
     "name": "stdout",
     "output_type": "stream",
     "text": [
      "Model Accuracy: 0.9383046259446047\n",
      "\n",
      "Top 20 positive\n",
      "        Word  Coefficient\n",
      "        love    11.159220\n",
      "       great    11.010378\n",
      "     perfect    10.111874\n",
      " comfortable     8.772221\n",
      "       loves     7.438456\n",
      "   perfectly     7.058265\n",
      " compliments     6.901423\n",
      "        nice     6.743366\n",
      "      highly     6.451530\n",
      "     pleased     6.313346\n",
      "      little     6.214533\n",
      "        glad     5.872873\n",
      "   excellent     5.831445\n",
      "        easy     5.531104\n",
      "     exactly     5.435831\n",
      "         bit     5.040384\n",
      "       happy     5.025105\n",
      "      nicely     4.924161\n",
      "        best     4.900944\n",
      "        fits     4.848919\n",
      "\n",
      "Top 20 negative\n",
      "           Word  Coefficient\n",
      "           junk    -4.524156\n",
      "          worst    -4.859971\n",
      "          awful    -5.032494\n",
      "         return    -5.185458\n",
      "        cheaply    -5.220782\n",
      "          cheap    -5.255922\n",
      "       horrible    -5.356994\n",
      " disappointment    -5.432903\n",
      "          shame    -5.504756\n",
      "       terrible    -5.519242\n",
      "        useless    -5.545926\n",
      "         poorly    -5.683921\n",
      "          broke    -5.758504\n",
      "  uncomfortable    -5.833892\n",
      "      returning    -6.010290\n",
      "  disappointing    -6.542436\n",
      "          waste    -6.715398\n",
      "       returned    -7.255425\n",
      "   disappointed    -7.739130\n",
      "           poor    -8.571526\n"
     ]
    }
   ],
   "source": [
    "tfidf = TfidfVectorizer(stop_words = 'english')\n",
    "text_fit(X, y, tfidf, LogisticRegression())"
   ]
  },
  {
   "cell_type": "markdown",
   "metadata": {},
   "source": [
    "Accuracy with tfidf has increased from 81% to 93.8%. It can also be observed that words that don't indicate polarity of the sentiment are removed."
   ]
  },
  {
   "cell_type": "markdown",
   "metadata": {},
   "source": [
    "### Upvote prediction"
   ]
  },
  {
   "cell_type": "markdown",
   "metadata": {},
   "source": [
    "Analysing the pattern of downvotes by users to predict upvotes of the products"
   ]
  },
  {
   "cell_type": "code",
   "execution_count": 25,
   "metadata": {},
   "outputs": [
    {
     "name": "stdout",
     "output_type": "stream",
     "text": [
      "Class distribution:\n",
      "1.0    37853\n",
      "0.0      323\n",
      "Name: % Upvote, dtype: int64\n"
     ]
    }
   ],
   "source": [
    "reviews = df[df['overall'] == 5]\n",
    "reviews = reviews[reviews['% Upvote'].isin(['0-20%', '20-40%', '60-80%', '80-100%'])]\n",
    "df.shape\n",
    "\n",
    "X = reviews['reviewText']\n",
    "y_dict = {'0-20%': 0, '20-40%': 0, '60-80%': 1, '80-100%': 1}\n",
    "y = reviews['% Upvote'].map(y_dict)\n",
    "\n",
    "print('Class distribution:')\n",
    "print(y.value_counts())"
   ]
  },
  {
   "cell_type": "markdown",
   "metadata": {},
   "source": [
    "It can be observed that the upvotes are skewed towards positive side. To avoid it, resampling the data has to be performed."
   ]
  },
  {
   "cell_type": "code",
   "execution_count": 26,
   "metadata": {},
   "outputs": [
    {
     "name": "stdout",
     "output_type": "stream",
     "text": [
      "Percentage of upvote transactions:  0.5\n",
      "Percentage of downvote transactions:  0.5\n",
      "Total number of records in resampled data:  646\n"
     ]
    }
   ],
   "source": [
    "df2 = pd.DataFrame(data = [X,y]).T\n",
    "\n",
    "Downvote_records = len(df2[df2['% Upvote'] == 0])\n",
    "Downvote_indices = np.array(df2[df2['% Upvote'] == 0].index)\n",
    "\n",
    "Upvote_indices = df2[df2['% Upvote'] == 1].index\n",
    "\n",
    "random_upvote_indices = np.random.choice(Upvote_indices, Downvote_records, replace = False)\n",
    "random_upvote_indices = np.array(random_upvote_indices)\n",
    "\n",
    "under_sample_indices = np.concatenate([Downvote_indices,random_upvote_indices])\n",
    "\n",
    "under_sample_data = df2.loc[under_sample_indices, :]\n",
    "X_u = under_sample_data['reviewText']\n",
    "under_sample_data['% Upvote'] = under_sample_data['% Upvote'].astype(int)\n",
    "y_u = under_sample_data['% Upvote']\n",
    "\n",
    "\n",
    "print(\"Percentage of upvote transactions: \", len(under_sample_data[under_sample_data['% Upvote'] == 1])/len(under_sample_data))\n",
    "print(\"Percentage of downvote transactions: \", len(under_sample_data[under_sample_data['% Upvote'] == 0])/len(under_sample_data))\n",
    "print(\"Total number of records in resampled data: \", len(under_sample_data))"
   ]
  },
  {
   "cell_type": "markdown",
   "metadata": {},
   "source": [
    "Now, the similar operations as above are performed on the resampled data to measure accuracy of the model"
   ]
  },
  {
   "cell_type": "code",
   "execution_count": 27,
   "metadata": {},
   "outputs": [
    {
     "name": "stdout",
     "output_type": "stream",
     "text": [
      "# features: 5155\n",
      "# train records: 484\n",
      "# test records: 162\n",
      "Model Accuracy: 0.5370370370370371\n",
      "\n",
      "Top 20 positive\n",
      "     Word  Coefficient\n",
      "     cool     0.921828\n",
      "  pleased     0.755763\n",
      "     warm     0.751756\n",
      "   highly     0.748763\n",
      "  picture     0.723473\n",
      "   purple     0.689130\n",
      "   second     0.687744\n",
      "   months     0.675537\n",
      "    cause     0.646757\n",
      "     fine     0.643980\n",
      "    today     0.587717\n",
      "   shirts     0.573561\n",
      " recently     0.571529\n",
      "  watches     0.558912\n",
      "     gold     0.547682\n",
      "    style     0.547050\n",
      "    happy     0.545565\n",
      "    quite     0.533967\n",
      "     came     0.528027\n",
      " everyday     0.525933\n",
      "\n",
      "Top 20 negative\n",
      "     Word  Coefficient\n",
      " purchase    -0.499613\n",
      "     ride    -0.500938\n",
      "     high    -0.504538\n",
      "    super    -0.507546\n",
      "     uggs    -0.514837\n",
      "   needed    -0.531974\n",
      "  product    -0.543963\n",
      "   return    -0.558406\n",
      "       hi    -0.595649\n",
      "     item    -0.598745\n",
      "  awesome    -0.617945\n",
      "   skinny    -0.640023\n",
      "   silver    -0.658236\n",
      "   narrow    -0.668670\n",
      "   jacket    -0.676152\n",
      "   fabric    -0.677395\n",
      "    watch    -0.706599\n",
      "      lbs    -0.725728\n",
      "    think    -0.849877\n",
      "  wearing    -0.954101\n"
     ]
    },
    {
     "name": "stderr",
     "output_type": "stream",
     "text": [
      "C:\\Users\\sandhya.mukkamala\\PycharmProjects\\Conda\\lib\\site-packages\\sklearn\\linear_model\\logistic.py:432: FutureWarning: Default solver will be changed to 'lbfgs' in 0.22. Specify a solver to silence this warning.\n",
      "  FutureWarning)\n"
     ]
    }
   ],
   "source": [
    "c = CountVectorizer(stop_words = 'english')\n",
    "\n",
    "text_fit(X_u, y_u, c, LogisticRegression())"
   ]
  },
  {
   "cell_type": "markdown",
   "metadata": {},
   "source": [
    "53.7% is the accuracy of the model."
   ]
  },
  {
   "cell_type": "markdown",
   "metadata": {},
   "source": [
    "### Effect of non-contextual features"
   ]
  },
  {
   "cell_type": "code",
   "execution_count": 31,
   "metadata": {},
   "outputs": [
    {
     "name": "stdout",
     "output_type": "stream",
     "text": [
      "Downvote score 5 comments examples:\n",
      "41       .When in the military,  I was stationed in Eur...\n",
      "13034    The product is very good. Even though it's so ...\n",
      "36390    I am at that age where my waste seems to be mo...\n",
      "68926    This jacket looks great and feels even better....\n",
      "94536    I forgot to give my size. Oh Ooh my bag. The p...\n",
      "Name: reviewText, dtype: object\n",
      "\n",
      "Upvote score 5 comments examples\n",
      "80342     this costume is really really cute. the sizes ...\n",
      "208831    I bought the burgandy purse, a little hesitati...\n",
      "160587    Seriously though, the quality is as expected w...\n",
      "137334    This was the exact shoe I had been looking for...\n",
      "154367    I love these crocs and the other more stylish ...\n",
      "Name: reviewText, dtype: object\n"
     ]
    }
   ],
   "source": [
    "#pd.set_option('display.max_colwidth', -1)\n",
    "print('Downvote score 5 comments examples:')\n",
    "print(under_sample_data[under_sample_data['% Upvote']==0]['reviewText'].iloc[:100:20])\n",
    "print('')\n",
    "print('Upvote score 5 comments examples')\n",
    "print(under_sample_data[under_sample_data['% Upvote']==1]['reviewText'].iloc[:100:20])"
   ]
  },
  {
   "cell_type": "markdown",
   "metadata": {},
   "source": [
    "Above are the samples of the reviews that received downvotes and upvotes. The possible features have to be extracted from these reviews."
   ]
  },
  {
   "cell_type": "code",
   "execution_count": 32,
   "metadata": {},
   "outputs": [
    {
     "name": "stdout",
     "output_type": "stream",
     "text": [
      "% Upvote                  0          1\n",
      "word_count        78.266254  85.213622\n",
      "capital_count     19.684211  14.993808\n",
      "question_mark      0.095975   0.030960\n",
      "exclamation_mark   0.869969   0.773994\n",
      "punctuation       14.170279  14.213622\n"
     ]
    }
   ],
   "source": [
    "under_sample_data['word_count'] = under_sample_data['reviewText'].apply(lambda x: len(x.split()))\n",
    "under_sample_data['capital_count'] = under_sample_data['reviewText'].apply(lambda x: sum(1 for c in x if c.isupper()))\n",
    "under_sample_data['question_mark'] = under_sample_data['reviewText'].apply(lambda x: sum(1 for c in x if c == '?'))\n",
    "under_sample_data['exclamation_mark'] = under_sample_data['reviewText'].apply(lambda x: sum(1 for c in x if c == '!'))\n",
    "under_sample_data['punctuation'] = under_sample_data['reviewText'].apply(lambda x: sum(1 for c in x if c in punctuation))\n",
    "\n",
    "print(under_sample_data.groupby('% Upvote').agg({'word_count': 'mean', 'capital_count': 'mean', 'question_mark': 'mean', 'exclamation_mark': 'mean', 'punctuation': 'mean'}).T)\n",
    "\n",
    "X_num = under_sample_data[under_sample_data.columns.difference(['% Upvote', 'reviewText'])]\n",
    "y_num = under_sample_data['% Upvote']"
   ]
  },
  {
   "cell_type": "markdown",
   "metadata": {},
   "source": [
    "### Training the model to predict"
   ]
  },
  {
   "cell_type": "markdown",
   "metadata": {},
   "source": [
    "The model is now trained to predict upvotes"
   ]
  },
  {
   "cell_type": "code",
   "execution_count": 33,
   "metadata": {},
   "outputs": [
    {
     "name": "stdout",
     "output_type": "stream",
     "text": [
      "Logistic Regression accuracy: 0.5061728395061729\n",
      "SVM accuracy: 0.5432098765432098\n"
     ]
    },
    {
     "name": "stderr",
     "output_type": "stream",
     "text": [
      "C:\\Users\\sandhya.mukkamala\\PycharmProjects\\Conda\\lib\\site-packages\\sklearn\\svm\\base.py:193: FutureWarning: The default value of gamma will change from 'auto' to 'scale' in version 0.22 to account better for unscaled features. Set gamma explicitly to 'auto' or 'scale' to avoid this warning.\n",
      "  \"avoid this warning.\", FutureWarning)\n"
     ]
    }
   ],
   "source": [
    "X_train, X_test, y_train, y_test = train_test_split(X_num, y_num, random_state=0)\n",
    "\n",
    "clf_lr = LogisticRegression().fit(X_train, y_train)\n",
    "acc_lr = clf_lr.score(X_test, y_test)\n",
    "print('Logistic Regression accuracy: {}'.format(acc_lr))\n",
    "\n",
    "clf_svm = svm.SVC().fit(X_train, y_train)\n",
    "acc_svm = clf_svm.score(X_test, y_test)\n",
    "print('SVM accuracy: {}'.format(acc_svm))"
   ]
  },
  {
   "cell_type": "markdown",
   "metadata": {},
   "source": [
    "Accuracy is lower than the count feature and so, it can be determined that these non-contextual features are not the right choice to perform the prediction"
   ]
  },
  {
   "cell_type": "markdown",
   "metadata": {},
   "source": [
    "### Study of user behavior"
   ]
  },
  {
   "cell_type": "markdown",
   "metadata": {},
   "source": [
    "The user behavior has to be analyzed to improve the model performance and understand the underlying reasons for the bad or good reviews. This also gives importance to word choices of a user when giving the reviews."
   ]
  },
  {
   "cell_type": "code",
   "execution_count": 36,
   "metadata": {},
   "outputs": [
    {
     "name": "stdout",
     "output_type": "stream",
     "text": [
      "                Rating count  Rating mean\n",
      "reviewerID                               \n",
      "A2J4XMWKR8PPD0           136     5.000000\n",
      "A2GA55P7WGHJCP            76     3.934211\n",
      "A2KBV88FL48CFS            69     4.695652\n",
      "AENH50GW3OKDA             68     4.573529\n",
      "A2V5R832QCSOMX            62     4.306452\n",
      "AVUJP7Z6BNT11             61     4.131148\n",
      "A132ETQPMHQ585            60     4.533333\n",
      "A2GP4EJIAA2OE0            59     3.847458\n",
      "A2UO040HWOP0C2            59     4.694915\n",
      "A1LM4PSE0HJQDW            55     3.745455\n"
     ]
    }
   ],
   "source": [
    "df_user = df.groupby(['reviewerID']).agg({'overall':['count', 'mean']})\n",
    "df_user.columns = df_user.columns.get_level_values(1)\n",
    "df_user.columns = ['Rating count', 'Rating mean']\n",
    "df_user = df_user.sort_values(by = 'Rating count', ascending = False)\n",
    "print(df_user.head(10))"
   ]
  },
  {
   "cell_type": "markdown",
   "metadata": {},
   "source": [
    "Count of ratings is considered to select the user and user with the id A2GA55P7WGHJCP is randomly chosen"
   ]
  },
  {
   "cell_type": "code",
   "execution_count": 44,
   "metadata": {},
   "outputs": [
    {
     "data": {
      "image/png": "[encoded data removed]",
      "text/plain": [
       "<Figure size 1080x720 with 1 Axes>"
      ]
     },
     "metadata": {
      "needs_background": "light"
     },
     "output_type": "display_data"
    }
   ],
   "source": [
    "def plot_user(reviewerID):\n",
    "    df_1user = df[df['reviewerID'] == reviewerID]['overall']\n",
    "    df_1user_plot = df_1user.value_counts(sort=False)\n",
    "    ax = df_1user_plot.plot(kind = 'bar', figsize = (15,10), title = 'Rating distribution of user {} review'.format(df[df['reviewerID'] == reviewerID]['reviewerID'].iloc[0]))\n",
    "    plt.show()\n",
    "\n",
    "plot_user('A2GA55P7WGHJCP')"
   ]
  },
  {
   "cell_type": "markdown",
   "metadata": {},
   "source": [
    "It can be observed that the user is liked of most of the products"
   ]
  },
  {
   "cell_type": "markdown",
   "metadata": {},
   "source": [
    "Most popular words used by the user for different ratings are observed. (2-grams and 3-grams are chosen for analysis)"
   ]
  },
  {
   "cell_type": "code",
   "execution_count": 55,
   "metadata": {},
   "outputs": [
    {
     "name": "stdout",
     "output_type": "stream",
     "text": [
      "score 1 reviews most popular 2-gram / 3-gram:\n",
      "     Count Occur %                      Phrase\n",
      "0      1.0  33.33%         (list, prominently)\n",
      "1      1.0  33.33%             (slot, abdomen)\n",
      "2      1.0  33.33%                (month, old)\n",
      "3      1.0  33.33%     (legs, purchase, large)\n",
      "4      1.0  33.33%              (skin, slough)\n",
      "..     ...     ...                         ...\n",
      "136    1.0  33.33%             (itch, redness)\n",
      "137    1.0  33.33%       (prominently, amazon)\n",
      "138    1.0  33.33%  (amazon, incur, liability)\n",
      "139    1.0  33.33%               (large, look)\n",
      "140    1.0  33.33%     (death, please, amazon)\n",
      "\n",
      "[141 rows x 3 columns]\n",
      "score 2 reviews most popular 2-gram / 3-gram:\n",
      "   Count Occur %          Phrase\n",
      "0    2.0  28.57%  (need, return)\n",
      "1    2.0  28.57%    (true, size)\n",
      "score 3 reviews most popular 2-gram / 3-gram:\n",
      "Empty DataFrame\n",
      "Columns: []\n",
      "Index: []\n",
      "score 4 reviews most popular 2-gram / 3-gram:\n",
      "   Count Occur %            Phrase\n",
      "0    4.0   25.0%  (wear, camisole)\n",
      "score 5 reviews most popular 2-gram / 3-gram:\n",
      "Empty DataFrame\n",
      "Columns: []\n",
      "Index: []\n"
     ]
    }
   ],
   "source": [
    "def get_token_ngram(score, benchmark, userid='all'):\n",
    "\n",
    "    if userid != 'all':\n",
    "        df3 = df[(df['reviewerID'] == userid) & (df['overall'] == score)]['reviewText']\n",
    "    else:\n",
    "        df3 = df[df['overall'] == score]['reviewText']\n",
    "        \n",
    "    count = len(df3)\n",
    "    total_text = ' '.join(df3)\n",
    "    total_text = total_text.lower()\n",
    "    stop = set(stopwords.words('english'))\n",
    "    total_text = nltk.word_tokenize(total_text)\n",
    "    total_text = [word for word in total_text if word not in stop and len(word) >= 3]\n",
    "    lemmatizer = WordNetLemmatizer()\n",
    "    total_text = [lemmatizer.lemmatize(w,'v') for w in total_text]\n",
    "    bigrams = ngrams(total_text,2)\n",
    "    trigrams = ngrams(total_text, 3)\n",
    "\n",
    "    # look at 2-gram and 3-gram together\n",
    "    combine = chain(bigrams, trigrams)\n",
    "    text = nltk.Text(combine)\n",
    "    fdist = nltk.FreqDist(text)\n",
    "    \n",
    "    # return only phrase occurs more than benchmark of his reviews\n",
    "    return sorted([(w,fdist[w],str(round(fdist[w]/count*100,2))+'%') for w in set(text) if fdist[w] >= count*benchmark], key=lambda x: -x[1])\n",
    "\n",
    "# score 1-5 reviews with this user\n",
    "index = ['Phrase', 'Count', 'Occur %']\n",
    "\n",
    "for j in range(1,6):\n",
    "    test = pd.DataFrame()\n",
    "    d = get_token_ngram(j, 0.25, 'A2GA55P7WGHJCP')\n",
    "    print('score {} reviews most popular 2-gram / 3-gram:'.format(j))\n",
    "    for i in d:\n",
    "        test = test.append(pd.Series(i, index = index), ignore_index = True)\n",
    "    #test = test.sort_values('Count', ascending=False)\n",
    "    print(test)"
   ]
  },
  {
   "cell_type": "markdown",
   "metadata": {},
   "source": [
    "Now, the popular words for all users are observed"
   ]
  },
  {
   "cell_type": "code",
   "execution_count": 56,
   "metadata": {},
   "outputs": [
    {
     "name": "stdout",
     "output_type": "stream",
     "text": [
      "score 1 reviews most popular 2-gram / 3-gram:\n",
      "   Count Occur %          Phrase\n",
      "0  932.0   8.33%    (look, like)\n",
      "1  580.0   5.18%  (waste, money)\n",
      "2  558.0   4.99%    (send, back)\n",
      "3  523.0   4.67%     (n't, even)\n",
      "4  388.0   3.47%    (could, n't)\n",
      "score 2 reviews most popular 2-gram / 3-gram:\n",
      "    Count Occur %          Phrase\n",
      "0  1081.0   6.99%    (look, like)\n",
      "1   734.0   4.75%    (send, back)\n",
      "2   544.0   3.52%    (would, n't)\n",
      "3   492.0   3.18%   (order, size)\n",
      "4   472.0   3.05%  (think, would)\n",
      "score 3 reviews most popular 2-gram / 3-gram:\n",
      "    Count Occur %          Phrase\n",
      "0  1596.0   5.25%    (look, like)\n",
      "1  1003.0    3.3%   (order, size)\n",
      "2   944.0    3.1%  (think, would)\n",
      "3   924.0   3.04%    (would, n't)\n",
      "score 4 reviews most popular 2-gram / 3-gram:\n",
      "    Count Occur %          Phrase\n",
      "0  2644.0   4.53%     (fit, well)\n",
      "1  2232.0   3.82%    (look, like)\n",
      "2  2211.0   3.79%  (really, like)\n",
      "3  1926.0    3.3%    (well, make)\n",
      "score 5 reviews most popular 2-gram / 3-gram:\n",
      "    Count Occur %               Phrase\n",
      "0  6694.0    4.1%     (fit, perfectly)\n",
      "1  6622.0   4.06%        (look, great)\n",
      "2  6230.0   3.82%         (well, make)\n",
      "3  6102.0   3.74%          (fit, well)\n",
      "4  6019.0   3.69%  (highly, recommend)\n",
      "5  5473.0   3.35%         (true, size)\n",
      "6  5204.0   3.19%         (fit, great)\n",
      "7  5042.0   3.09%         (look, like)\n"
     ]
    }
   ],
   "source": [
    "# score 1-5 reviews with all users\n",
    "index = ['Phrase', 'Count', 'Occur %']\n",
    "\n",
    "for j in range(1,6):\n",
    "    test = pd.DataFrame()\n",
    "    # easier benchmark since we have many different users here, thus different phrase\n",
    "    d = get_token_ngram(j, 0.03)\n",
    "    print('score {} reviews most popular 2-gram / 3-gram:'.format(j))\n",
    "    for i in d:\n",
    "        test = test.append(pd.Series(i, index = index), ignore_index = True)\n",
    "    test = test.sort_values('Count', ascending=False)\n",
    "    print(test)"
   ]
  },
  {
   "cell_type": "markdown",
   "metadata": {},
   "source": [
    "Now, only the adjectives are taken into consideration, as those express opinion and nouns don't."
   ]
  },
  {
   "cell_type": "code",
   "execution_count": 57,
   "metadata": {},
   "outputs": [],
   "source": [
    "def get_token_adj(score, benchmark, userid='all'):\n",
    "    \n",
    "    if userid != 'all':\n",
    "        df3 = df[(df['reviewerID'] == userid) & (df['overall'] == score)]['reviewText']\n",
    "    else:\n",
    "        df3 = df[df['overall'] == score]['reviewText']\n",
    "        \n",
    "    count = len(df3)\n",
    "    total_text = ' '.join(df3)\n",
    "    total_text = total_text.lower()\n",
    "    stop = set(stopwords.words('english'))\n",
    "    total_text = nltk.word_tokenize(total_text)\n",
    "    total_text = [word for word in total_text if word not in stop and len(word) >= 3]\n",
    "    lemmatizer = WordNetLemmatizer()\n",
    "    total_text = [lemmatizer.lemmatize(w,'a') for w in total_text]\n",
    "    # get adjective only\n",
    "    total_text = [word for word, form in nltk.pos_tag(total_text) if form == 'JJ']\n",
    "    \n",
    "    text = nltk.Text(total_text)\n",
    "    fdist = nltk.FreqDist(text)\n",
    "    \n",
    "    # return only phrase occurs more than benchmark of his reviews\n",
    "    return sorted([(w,fdist[w],str(round(fdist[w]/count*100,2))+'%') for w in set(text) if fdist[w] >= count*benchmark], key=lambda x: -x[1])"
   ]
  },
  {
   "cell_type": "code",
   "execution_count": 61,
   "metadata": {},
   "outputs": [
    {
     "name": "stdout",
     "output_type": "stream",
     "text": [
      "score 1 reviews most popular adjectives word:\n",
      "    Count Occur %        Phrase\n",
      "0     2.0  66.67%         large\n",
      "1     2.0  66.67%          wear\n",
      "2     1.0  33.33%          skin\n",
      "3     1.0  33.33%         avoid\n",
      "4     1.0  33.33%         chart\n",
      "5     1.0  33.33%        -could\n",
      "6     1.0  33.33%           big\n",
      "7     1.0  33.33%     expensive\n",
      "8     1.0  33.33%         latex\n",
      "9     1.0  33.33%          tiny\n",
      "10    1.0  33.33%           old\n",
      "11    1.0  33.33%         upper\n",
      "12    1.0  33.33%          much\n",
      "13    1.0  33.33%  anaphylactic\n",
      "14    1.0  33.33%         smoky\n",
      "15    1.0  33.33%        amazon\n",
      "score 2 reviews most popular adjectives word:\n",
      "   Count Occur %       Phrase\n",
      "0    5.0  71.43%         good\n",
      "1    3.0  42.86%        small\n",
      "2    2.0  28.57%          big\n",
      "3    2.0  28.57%        large\n",
      "4    2.0  28.57%        great\n",
      "5    2.0  28.57%         much\n",
      "6    2.0  28.57%         thin\n",
      "7    2.0  28.57%         long\n",
      "8    2.0  28.57%         true\n",
      "9    2.0  28.57%  comfortable\n",
      "score 3 reviews most popular adjectives word:\n",
      "   Count Occur %       Phrase\n",
      "0    8.0   50.0%         good\n",
      "1    7.0  43.75%         nice\n",
      "2    5.0  31.25%         fine\n",
      "3    5.0  31.25%  comfortable\n",
      "4    4.0   25.0%       little\n",
      "score 4 reviews most popular adjectives word:\n",
      "   Count Occur %       Phrase\n",
      "0   11.0  68.75%         good\n",
      "1    7.0  43.75%         wear\n",
      "2    5.0  31.25%         true\n",
      "3    4.0   25.0%          top\n",
      "4    4.0   25.0%         nice\n",
      "5    4.0   25.0%        black\n",
      "6    4.0   25.0%       little\n",
      "7    4.0   25.0%         fine\n",
      "8    4.0   25.0%  comfortable\n",
      "9    4.0   25.0%        small\n",
      "score 5 reviews most popular adjectives word:\n",
      "   Count Occur %       Phrase\n",
      "0   27.0  79.41%         good\n",
      "1   13.0  38.24%         nice\n",
      "2   12.0  35.29%    beautiful\n",
      "3   12.0  35.29%        great\n",
      "4   11.0  32.35%        black\n",
      "5   11.0  32.35%  comfortable\n",
      "6   10.0  29.41%         wear\n",
      "7    9.0  26.47%       little\n"
     ]
    }
   ],
   "source": [
    "# score 1-5 reviews with this user\n",
    "index = ['Phrase', 'Count', 'Occur %']\n",
    "\n",
    "for j in range(1,6):\n",
    "    test = pd.DataFrame()\n",
    "    d = get_token_adj(j, 0.25, 'A2GA55P7WGHJCP')\n",
    "    print('score {} reviews most popular adjectives word:'.format(j))\n",
    "    for i in d:\n",
    "        test = test.append(pd.Series(i, index = index), ignore_index = True)\n",
    "    test = test.sort_values('Count', ascending=False)\n",
    "    print(test)"
   ]
  },
  {
   "cell_type": "code",
   "execution_count": null,
   "metadata": {},
   "outputs": [],
   "source": []
  }
 ],
 "metadata": {
  "kernelspec": {
   "display_name": "Python 3",
   "language": "python",
   "name": "python3"
  },
  "language_info": {
   "codemirror_mode": {
    "name": "ipython",
    "version": 3
   },
   "file_extension": ".py",
   "mimetype": "text/x-python",
   "name": "python",
   "nbconvert_exporter": "python",
   "pygments_lexer": "ipython3",
   "version": "3.7.4"
  }
 },
 "nbformat": 4,
 "nbformat_minor": 2
}
